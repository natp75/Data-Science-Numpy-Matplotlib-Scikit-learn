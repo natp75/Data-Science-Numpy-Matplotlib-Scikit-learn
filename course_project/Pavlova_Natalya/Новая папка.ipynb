{
 "cells": [
  {
   "cell_type": "code",
   "execution_count": 92,
   "metadata": {
    "execution": {
     "iopub.execute_input": "2022-07-20T15:31:04.206367Z",
     "iopub.status.busy": "2022-07-20T15:31:04.205925Z",
     "iopub.status.idle": "2022-07-20T15:31:05.384389Z",
     "shell.execute_reply": "2022-07-20T15:31:05.383728Z",
     "shell.execute_reply.started": "2022-07-20T15:31:04.206280Z"
    },
    "id": "Qx8EhDqvSdv4"
   },
   "outputs": [],
   "source": []
  },
  {
   "cell_type": "markdown",
   "metadata": {},
   "source": [
    "## Курсовой проект для курса \"Python для Data Science\"\n",
    "\n",
    "Задание:\n",
    "Используя данные из обучающего датасета (train.csv), построить модель для предсказания цен на недвижимость (квартиры). С помощью полученной модели, предсказать цены для квартир из тестового датасета (test.csv).\n",
    "\n",
    "Целевая переменная:\n",
    "Price\n",
    "\n",
    "Метрика качества:\n",
    "R2 - коэффициент детерминации (sklearn.metrics.r2_score)\n",
    "\n",
    "Описание датасета:\n",
    "Id - идентификационный номер квартиры\n",
    "DistrictId - идентификационный номер района\n",
    "Rooms - количество комнат\n",
    "Square - площадь\n",
    "LifeSquare - жилая площадь\n",
    "KitchenSquare - площадь кухни\n",
    "Floor - этаж\n",
    "HouseFloor - количество этажей в доме\n",
    "HouseYear - год постройки дома\n",
    "Ecology_1, Ecology_2, Ecology_3 - экологические показатели местности\n",
    "Social_1, Social_2, Social_3 - социальные показатели местности\n",
    "Healthcare_1, Helthcare_2 - показатели местности, связанные с охраной здоровья\n",
    "Shops_1, Shops_2 - показатели, связанные с наличием магазинов, торговых центров\n",
    "Price - цена квартиры"
   ]
  },
  {
   "cell_type": "code",
   "execution_count": 1,
   "metadata": {},
   "outputs": [],
   "source": [
    "import numpy as np\n",
    "import pandas as pd\n",
    "import random\n",
    "import matplotlib.pyplot as plt\n",
    "%matplotlib inline\n",
    "import seaborn as sns\n",
    "from sklearn.preprocessing import StandardScaler\n",
    "from sklearn.model_selection import train_test_split\n",
    "from sklearn.ensemble import GradientBoostingRegressor\n",
    "from sklearn.metrics import r2_score as r2"
   ]
  },
  {
   "cell_type": "code",
   "execution_count": 2,
   "metadata": {},
   "outputs": [],
   "source": [
    "import warnings\n",
    "warnings.filterwarnings('ignore')"
   ]
  },
  {
   "cell_type": "code",
   "execution_count": 3,
   "metadata": {},
   "outputs": [],
   "source": [
    "def evaluate_preds(true_values, pred_values):\n",
    "    print(\"R2:\\t\" + str(round(r2(true_values, pred_values), 3)))\n",
    "        \n",
    "    plt.figure(figsize=(10,10))\n",
    "    \n",
    "    sns.scatterplot(x=pred_values, y=true_values)\n",
    "    \n",
    "    plt.xlabel('Predicted values')\n",
    "    plt.ylabel('True values')\n",
    "    plt.title('True vs Predicted values')\n",
    "    plt.show()"
   ]
  },
  {
   "cell_type": "code",
   "execution_count": 78,
   "metadata": {},
   "outputs": [],
   "source": [
    "train='.http://localhost:8888/edit/train.csv'\n",
    "test = '.http://localhost:8888/edit/test.csv'\n",
    "PREDICTIONS_PATH = 'C:/Users/LENIN!/Desktop/Natalya/Geek/project/project_data_from_kaggle/Новая папка/sample_submission_.csv'"
   ]
  },
  {
   "cell_type": "code",
   "execution_count": 14,
   "metadata": {},
   "outputs": [
    {
     "data": {
      "text/html": [
       "<div>\n",
       "<style scoped>\n",
       "    .dataframe tbody tr th:only-of-type {\n",
       "        vertical-align: middle;\n",
       "    }\n",
       "\n",
       "    .dataframe tbody tr th {\n",
       "        vertical-align: top;\n",
       "    }\n",
       "\n",
       "    .dataframe thead th {\n",
       "        text-align: right;\n",
       "    }\n",
       "</style>\n",
       "<table border=\"1\" class=\"dataframe\">\n",
       "  <thead>\n",
       "    <tr style=\"text-align: right;\">\n",
       "      <th></th>\n",
       "      <th>Id</th>\n",
       "      <th>DistrictId</th>\n",
       "      <th>Rooms</th>\n",
       "      <th>Square</th>\n",
       "      <th>LifeSquare</th>\n",
       "      <th>KitchenSquare</th>\n",
       "      <th>Floor</th>\n",
       "      <th>HouseFloor</th>\n",
       "      <th>HouseYear</th>\n",
       "      <th>Ecology_1</th>\n",
       "      <th>Ecology_2</th>\n",
       "      <th>Ecology_3</th>\n",
       "      <th>Social_1</th>\n",
       "      <th>Social_2</th>\n",
       "      <th>Social_3</th>\n",
       "      <th>Healthcare_1</th>\n",
       "      <th>Helthcare_2</th>\n",
       "      <th>Shops_1</th>\n",
       "      <th>Shops_2</th>\n",
       "      <th>Price</th>\n",
       "    </tr>\n",
       "  </thead>\n",
       "  <tbody>\n",
       "    <tr>\n",
       "      <th>0</th>\n",
       "      <td>11809</td>\n",
       "      <td>27</td>\n",
       "      <td>3.0</td>\n",
       "      <td>115.027311</td>\n",
       "      <td>NaN</td>\n",
       "      <td>10.0</td>\n",
       "      <td>4</td>\n",
       "      <td>10.0</td>\n",
       "      <td>2014</td>\n",
       "      <td>0.075424</td>\n",
       "      <td>B</td>\n",
       "      <td>B</td>\n",
       "      <td>11</td>\n",
       "      <td>3097</td>\n",
       "      <td>0</td>\n",
       "      <td>NaN</td>\n",
       "      <td>0</td>\n",
       "      <td>0</td>\n",
       "      <td>B</td>\n",
       "      <td>305018.871089</td>\n",
       "    </tr>\n",
       "    <tr>\n",
       "      <th>1</th>\n",
       "      <td>3013</td>\n",
       "      <td>22</td>\n",
       "      <td>1.0</td>\n",
       "      <td>39.832524</td>\n",
       "      <td>23.169223</td>\n",
       "      <td>8.0</td>\n",
       "      <td>7</td>\n",
       "      <td>8.0</td>\n",
       "      <td>1966</td>\n",
       "      <td>0.118537</td>\n",
       "      <td>B</td>\n",
       "      <td>B</td>\n",
       "      <td>30</td>\n",
       "      <td>6207</td>\n",
       "      <td>1</td>\n",
       "      <td>1183.0</td>\n",
       "      <td>1</td>\n",
       "      <td>0</td>\n",
       "      <td>B</td>\n",
       "      <td>177734.553407</td>\n",
       "    </tr>\n",
       "    <tr>\n",
       "      <th>2</th>\n",
       "      <td>8215</td>\n",
       "      <td>1</td>\n",
       "      <td>3.0</td>\n",
       "      <td>78.342215</td>\n",
       "      <td>47.671972</td>\n",
       "      <td>10.0</td>\n",
       "      <td>2</td>\n",
       "      <td>17.0</td>\n",
       "      <td>1988</td>\n",
       "      <td>0.025609</td>\n",
       "      <td>B</td>\n",
       "      <td>B</td>\n",
       "      <td>33</td>\n",
       "      <td>5261</td>\n",
       "      <td>0</td>\n",
       "      <td>240.0</td>\n",
       "      <td>3</td>\n",
       "      <td>1</td>\n",
       "      <td>B</td>\n",
       "      <td>282078.720850</td>\n",
       "    </tr>\n",
       "    <tr>\n",
       "      <th>3</th>\n",
       "      <td>2352</td>\n",
       "      <td>1</td>\n",
       "      <td>1.0</td>\n",
       "      <td>40.409907</td>\n",
       "      <td>NaN</td>\n",
       "      <td>1.0</td>\n",
       "      <td>10</td>\n",
       "      <td>22.0</td>\n",
       "      <td>1977</td>\n",
       "      <td>0.007122</td>\n",
       "      <td>B</td>\n",
       "      <td>B</td>\n",
       "      <td>1</td>\n",
       "      <td>264</td>\n",
       "      <td>0</td>\n",
       "      <td>NaN</td>\n",
       "      <td>0</td>\n",
       "      <td>1</td>\n",
       "      <td>B</td>\n",
       "      <td>168106.007630</td>\n",
       "    </tr>\n",
       "  </tbody>\n",
       "</table>\n",
       "</div>"
      ],
      "text/plain": [
       "      Id  DistrictId  Rooms      Square  LifeSquare  KitchenSquare  Floor  \\\n",
       "0  11809          27    3.0  115.027311         NaN           10.0      4   \n",
       "1   3013          22    1.0   39.832524   23.169223            8.0      7   \n",
       "2   8215           1    3.0   78.342215   47.671972           10.0      2   \n",
       "3   2352           1    1.0   40.409907         NaN            1.0     10   \n",
       "\n",
       "   HouseFloor  HouseYear  Ecology_1 Ecology_2 Ecology_3  Social_1  Social_2  \\\n",
       "0        10.0       2014   0.075424         B         B        11      3097   \n",
       "1         8.0       1966   0.118537         B         B        30      6207   \n",
       "2        17.0       1988   0.025609         B         B        33      5261   \n",
       "3        22.0       1977   0.007122         B         B         1       264   \n",
       "\n",
       "   Social_3  Healthcare_1  Helthcare_2  Shops_1 Shops_2          Price  \n",
       "0         0           NaN            0        0       B  305018.871089  \n",
       "1         1        1183.0            1        0       B  177734.553407  \n",
       "2         0         240.0            3        1       B  282078.720850  \n",
       "3         0           NaN            0        1       B  168106.007630  "
      ]
     },
     "execution_count": 14,
     "metadata": {},
     "output_type": "execute_result"
    }
   ],
   "source": [
    "train_df = pd.read_csv('train.csv', sep=',')\n",
    "train_df.head(4)"
   ]
  },
  {
   "cell_type": "code",
   "execution_count": 15,
   "metadata": {},
   "outputs": [
    {
     "name": "stdout",
     "output_type": "stream",
     "text": [
      "(10000, 20)\n"
     ]
    }
   ],
   "source": [
    "print(train_df.shape)  "
   ]
  },
  {
   "cell_type": "code",
   "execution_count": 16,
   "metadata": {},
   "outputs": [
    {
     "name": "stdout",
     "output_type": "stream",
     "text": [
      "<class 'pandas.core.frame.DataFrame'>\n",
      "RangeIndex: 10000 entries, 0 to 9999\n",
      "Data columns (total 20 columns):\n",
      " #   Column         Non-Null Count  Dtype  \n",
      "---  ------         --------------  -----  \n",
      " 0   Id             10000 non-null  int64  \n",
      " 1   DistrictId     10000 non-null  int64  \n",
      " 2   Rooms          10000 non-null  float64\n",
      " 3   Square         10000 non-null  float64\n",
      " 4   LifeSquare     7887 non-null   float64\n",
      " 5   KitchenSquare  10000 non-null  float64\n",
      " 6   Floor          10000 non-null  int64  \n",
      " 7   HouseFloor     10000 non-null  float64\n",
      " 8   HouseYear      10000 non-null  int64  \n",
      " 9   Ecology_1      10000 non-null  float64\n",
      " 10  Ecology_2      10000 non-null  object \n",
      " 11  Ecology_3      10000 non-null  object \n",
      " 12  Social_1       10000 non-null  int64  \n",
      " 13  Social_2       10000 non-null  int64  \n",
      " 14  Social_3       10000 non-null  int64  \n",
      " 15  Healthcare_1   5202 non-null   float64\n",
      " 16  Helthcare_2    10000 non-null  int64  \n",
      " 17  Shops_1        10000 non-null  int64  \n",
      " 18  Shops_2        10000 non-null  object \n",
      " 19  Price          10000 non-null  float64\n",
      "dtypes: float64(8), int64(9), object(3)\n",
      "memory usage: 1.5+ MB\n",
      "None\n"
     ]
    }
   ],
   "source": [
    "print(train_df.info())"
   ]
  },
  {
   "cell_type": "code",
   "execution_count": 16,
   "metadata": {},
   "outputs": [
    {
     "data": {
      "text/html": [
       "<div>\n",
       "<style scoped>\n",
       "    .dataframe tbody tr th:only-of-type {\n",
       "        vertical-align: middle;\n",
       "    }\n",
       "\n",
       "    .dataframe tbody tr th {\n",
       "        vertical-align: top;\n",
       "    }\n",
       "\n",
       "    .dataframe thead th {\n",
       "        text-align: right;\n",
       "    }\n",
       "</style>\n",
       "<table border=\"1\" class=\"dataframe\">\n",
       "  <thead>\n",
       "    <tr style=\"text-align: right;\">\n",
       "      <th></th>\n",
       "      <th>Id</th>\n",
       "      <th>DistrictId</th>\n",
       "      <th>Rooms</th>\n",
       "      <th>Square</th>\n",
       "      <th>LifeSquare</th>\n",
       "      <th>KitchenSquare</th>\n",
       "      <th>Floor</th>\n",
       "      <th>HouseFloor</th>\n",
       "      <th>HouseYear</th>\n",
       "      <th>Ecology_1</th>\n",
       "      <th>Social_1</th>\n",
       "      <th>Social_2</th>\n",
       "      <th>Social_3</th>\n",
       "      <th>Healthcare_1</th>\n",
       "      <th>Helthcare_2</th>\n",
       "      <th>Shops_1</th>\n",
       "      <th>Price</th>\n",
       "    </tr>\n",
       "  </thead>\n",
       "  <tbody>\n",
       "    <tr>\n",
       "      <th>count</th>\n",
       "      <td>10000.00000</td>\n",
       "      <td>10000.000000</td>\n",
       "      <td>10000.000000</td>\n",
       "      <td>10000.000000</td>\n",
       "      <td>7887.000000</td>\n",
       "      <td>10000.000000</td>\n",
       "      <td>10000.000000</td>\n",
       "      <td>10000.000000</td>\n",
       "      <td>1.000000e+04</td>\n",
       "      <td>10000.000000</td>\n",
       "      <td>10000.000000</td>\n",
       "      <td>10000.000000</td>\n",
       "      <td>10000.000000</td>\n",
       "      <td>5202.000000</td>\n",
       "      <td>10000.000000</td>\n",
       "      <td>10000.000000</td>\n",
       "      <td>10000.000000</td>\n",
       "    </tr>\n",
       "    <tr>\n",
       "      <th>mean</th>\n",
       "      <td>8383.40770</td>\n",
       "      <td>50.400800</td>\n",
       "      <td>1.890500</td>\n",
       "      <td>56.315775</td>\n",
       "      <td>37.199645</td>\n",
       "      <td>6.273300</td>\n",
       "      <td>8.526700</td>\n",
       "      <td>12.609400</td>\n",
       "      <td>3.990166e+03</td>\n",
       "      <td>0.118858</td>\n",
       "      <td>24.687000</td>\n",
       "      <td>5352.157400</td>\n",
       "      <td>8.039200</td>\n",
       "      <td>1142.904460</td>\n",
       "      <td>1.319500</td>\n",
       "      <td>4.231300</td>\n",
       "      <td>214138.857399</td>\n",
       "    </tr>\n",
       "    <tr>\n",
       "      <th>std</th>\n",
       "      <td>4859.01902</td>\n",
       "      <td>43.587592</td>\n",
       "      <td>0.839512</td>\n",
       "      <td>21.058732</td>\n",
       "      <td>86.241209</td>\n",
       "      <td>28.560917</td>\n",
       "      <td>5.241148</td>\n",
       "      <td>6.775974</td>\n",
       "      <td>2.005003e+05</td>\n",
       "      <td>0.119025</td>\n",
       "      <td>17.532614</td>\n",
       "      <td>4006.799803</td>\n",
       "      <td>23.831875</td>\n",
       "      <td>1021.517264</td>\n",
       "      <td>1.493601</td>\n",
       "      <td>4.806341</td>\n",
       "      <td>92872.293865</td>\n",
       "    </tr>\n",
       "    <tr>\n",
       "      <th>min</th>\n",
       "      <td>0.00000</td>\n",
       "      <td>0.000000</td>\n",
       "      <td>0.000000</td>\n",
       "      <td>1.136859</td>\n",
       "      <td>0.370619</td>\n",
       "      <td>0.000000</td>\n",
       "      <td>1.000000</td>\n",
       "      <td>0.000000</td>\n",
       "      <td>1.910000e+03</td>\n",
       "      <td>0.000000</td>\n",
       "      <td>0.000000</td>\n",
       "      <td>168.000000</td>\n",
       "      <td>0.000000</td>\n",
       "      <td>0.000000</td>\n",
       "      <td>0.000000</td>\n",
       "      <td>0.000000</td>\n",
       "      <td>59174.778028</td>\n",
       "    </tr>\n",
       "    <tr>\n",
       "      <th>25%</th>\n",
       "      <td>4169.50000</td>\n",
       "      <td>20.000000</td>\n",
       "      <td>1.000000</td>\n",
       "      <td>41.774881</td>\n",
       "      <td>22.769832</td>\n",
       "      <td>1.000000</td>\n",
       "      <td>4.000000</td>\n",
       "      <td>9.000000</td>\n",
       "      <td>1.974000e+03</td>\n",
       "      <td>0.017647</td>\n",
       "      <td>6.000000</td>\n",
       "      <td>1564.000000</td>\n",
       "      <td>0.000000</td>\n",
       "      <td>350.000000</td>\n",
       "      <td>0.000000</td>\n",
       "      <td>1.000000</td>\n",
       "      <td>153872.633942</td>\n",
       "    </tr>\n",
       "    <tr>\n",
       "      <th>50%</th>\n",
       "      <td>8394.50000</td>\n",
       "      <td>36.000000</td>\n",
       "      <td>2.000000</td>\n",
       "      <td>52.513310</td>\n",
       "      <td>32.781260</td>\n",
       "      <td>6.000000</td>\n",
       "      <td>7.000000</td>\n",
       "      <td>13.000000</td>\n",
       "      <td>1.977000e+03</td>\n",
       "      <td>0.075424</td>\n",
       "      <td>25.000000</td>\n",
       "      <td>5285.000000</td>\n",
       "      <td>2.000000</td>\n",
       "      <td>900.000000</td>\n",
       "      <td>1.000000</td>\n",
       "      <td>3.000000</td>\n",
       "      <td>192269.644879</td>\n",
       "    </tr>\n",
       "    <tr>\n",
       "      <th>75%</th>\n",
       "      <td>12592.50000</td>\n",
       "      <td>75.000000</td>\n",
       "      <td>2.000000</td>\n",
       "      <td>65.900625</td>\n",
       "      <td>45.128803</td>\n",
       "      <td>9.000000</td>\n",
       "      <td>12.000000</td>\n",
       "      <td>17.000000</td>\n",
       "      <td>2.001000e+03</td>\n",
       "      <td>0.195781</td>\n",
       "      <td>36.000000</td>\n",
       "      <td>7227.000000</td>\n",
       "      <td>5.000000</td>\n",
       "      <td>1548.000000</td>\n",
       "      <td>2.000000</td>\n",
       "      <td>6.000000</td>\n",
       "      <td>249135.462171</td>\n",
       "    </tr>\n",
       "    <tr>\n",
       "      <th>max</th>\n",
       "      <td>16798.00000</td>\n",
       "      <td>209.000000</td>\n",
       "      <td>19.000000</td>\n",
       "      <td>641.065193</td>\n",
       "      <td>7480.592129</td>\n",
       "      <td>2014.000000</td>\n",
       "      <td>42.000000</td>\n",
       "      <td>117.000000</td>\n",
       "      <td>2.005201e+07</td>\n",
       "      <td>0.521867</td>\n",
       "      <td>74.000000</td>\n",
       "      <td>19083.000000</td>\n",
       "      <td>141.000000</td>\n",
       "      <td>4849.000000</td>\n",
       "      <td>6.000000</td>\n",
       "      <td>23.000000</td>\n",
       "      <td>633233.466570</td>\n",
       "    </tr>\n",
       "  </tbody>\n",
       "</table>\n",
       "</div>"
      ],
      "text/plain": [
       "                Id    DistrictId         Rooms        Square   LifeSquare  \\\n",
       "count  10000.00000  10000.000000  10000.000000  10000.000000  7887.000000   \n",
       "mean    8383.40770     50.400800      1.890500     56.315775    37.199645   \n",
       "std     4859.01902     43.587592      0.839512     21.058732    86.241209   \n",
       "min        0.00000      0.000000      0.000000      1.136859     0.370619   \n",
       "25%     4169.50000     20.000000      1.000000     41.774881    22.769832   \n",
       "50%     8394.50000     36.000000      2.000000     52.513310    32.781260   \n",
       "75%    12592.50000     75.000000      2.000000     65.900625    45.128803   \n",
       "max    16798.00000    209.000000     19.000000    641.065193  7480.592129   \n",
       "\n",
       "       KitchenSquare         Floor    HouseFloor     HouseYear     Ecology_1  \\\n",
       "count   10000.000000  10000.000000  10000.000000  1.000000e+04  10000.000000   \n",
       "mean        6.273300      8.526700     12.609400  3.990166e+03      0.118858   \n",
       "std        28.560917      5.241148      6.775974  2.005003e+05      0.119025   \n",
       "min         0.000000      1.000000      0.000000  1.910000e+03      0.000000   \n",
       "25%         1.000000      4.000000      9.000000  1.974000e+03      0.017647   \n",
       "50%         6.000000      7.000000     13.000000  1.977000e+03      0.075424   \n",
       "75%         9.000000     12.000000     17.000000  2.001000e+03      0.195781   \n",
       "max      2014.000000     42.000000    117.000000  2.005201e+07      0.521867   \n",
       "\n",
       "           Social_1      Social_2      Social_3  Healthcare_1   Helthcare_2  \\\n",
       "count  10000.000000  10000.000000  10000.000000   5202.000000  10000.000000   \n",
       "mean      24.687000   5352.157400      8.039200   1142.904460      1.319500   \n",
       "std       17.532614   4006.799803     23.831875   1021.517264      1.493601   \n",
       "min        0.000000    168.000000      0.000000      0.000000      0.000000   \n",
       "25%        6.000000   1564.000000      0.000000    350.000000      0.000000   \n",
       "50%       25.000000   5285.000000      2.000000    900.000000      1.000000   \n",
       "75%       36.000000   7227.000000      5.000000   1548.000000      2.000000   \n",
       "max       74.000000  19083.000000    141.000000   4849.000000      6.000000   \n",
       "\n",
       "            Shops_1          Price  \n",
       "count  10000.000000   10000.000000  \n",
       "mean       4.231300  214138.857399  \n",
       "std        4.806341   92872.293865  \n",
       "min        0.000000   59174.778028  \n",
       "25%        1.000000  153872.633942  \n",
       "50%        3.000000  192269.644879  \n",
       "75%        6.000000  249135.462171  \n",
       "max       23.000000  633233.466570  "
      ]
     },
     "execution_count": 16,
     "metadata": {},
     "output_type": "execute_result"
    }
   ],
   "source": [
    "train_df.describe()"
   ]
  },
  {
   "cell_type": "code",
   "execution_count": 17,
   "metadata": {
    "execution": {
     "iopub.execute_input": "2022-07-19T17:49:53.332881Z",
     "iopub.status.busy": "2022-07-19T17:49:53.331959Z",
     "iopub.status.idle": "2022-07-19T17:49:53.425751Z",
     "shell.execute_reply": "2022-07-19T17:49:53.424443Z",
     "shell.execute_reply.started": "2022-07-19T17:49:53.332775Z"
    },
    "id": "CsvkkVE0eIV2",
    "outputId": "1b220ce0-fd74-42e7-c0d7-4f9d2dab40de",
    "scrolled": true
   },
   "outputs": [
    {
     "data": {
      "image/png": "[encoded data removed]",
      "text/plain": [
       "<Figure size 1152x576 with 2 Axes>"
      ]
     },
     "metadata": {
      "needs_background": "light"
     },
     "output_type": "display_data"
    }
   ],
   "source": [
    "plt.figure(figsize = (16, 8))\n",
    "\n",
    "plt.subplot(121)\n",
    "train_df['Price'].hist()\n",
    "plt.ylabel('count')\n",
    "plt.xlabel('price')\n",
    "\n",
    "plt.subplot(122)\n",
    "sns.kdeplot(train_df['Price'], shade=True, legend=False)\n",
    "plt.xlabel('price')\n",
    "\n",
    "plt.suptitle('Distribution of Price')\n",
    "plt.show()"
   ]
  },
  {
   "cell_type": "markdown",
   "metadata": {
    "id": "S-XGEWb56Efy"
   },
   "source": [
    "## Подготовка обучающего датасета"
   ]
  },
  {
   "cell_type": "code",
   "execution_count": 18,
   "metadata": {},
   "outputs": [],
   "source": [
    "train_df = train_df.drop('Healthcare_1', axis=1)"
   ]
  },
  {
   "cell_type": "markdown",
   "metadata": {
    "execution": {
     "iopub.execute_input": "2022-06-14T16:07:41.111711Z",
     "iopub.status.busy": "2022-06-14T16:07:41.11127Z",
     "iopub.status.idle": "2022-06-14T16:07:43.339342Z",
     "shell.execute_reply": "2022-06-14T16:07:43.33822Z",
     "shell.execute_reply.started": "2022-06-14T16:07:41.111669Z"
    },
    "id": "U8_lauQd6MTp",
    "outputId": "dc0bfab2-a098-483b-ca52-008e29ad888d"
   },
   "source": [
    "## Преобразуем категориальные признаки \"Ecology_2\", \"Ecology_3\", \"Shops_2\" в бинарные"
   ]
  },
  {
   "cell_type": "code",
   "execution_count": 19,
   "metadata": {
    "scrolled": true
   },
   "outputs": [
    {
     "name": "stdout",
     "output_type": "stream",
     "text": [
      "B    9903\n",
      "A      97\n",
      "Name: Ecology_2, dtype: int64\n",
      "B    9725\n",
      "A     275\n",
      "Name: Ecology_3, dtype: int64\n",
      "B    9175\n",
      "A     825\n",
      "Name: Shops_2, dtype: int64\n"
     ]
    }
   ],
   "source": [
    "print(train_df['Ecology_2'].value_counts())\n",
    "print(train_df['Ecology_3'].value_counts())\n",
    "print(train_df['Shops_2'].value_counts())"
   ]
  },
  {
   "cell_type": "code",
   "execution_count": 243,
   "metadata": {
    "id": "TKA49E9ycozw"
   },
   "outputs": [],
   "source": [
    "train_df['Ecology_2_bin'] = train_df['Ecology_2'].replace({'A':0, 'B':1})\n",
    "train_df['Ecology_3_bin'] = train_df['Ecology_3'].replace({'A':0, 'B':1})\n",
    "train_df['Shops_2_bin'] = train_df['Shops_2'].replace({'A':0, 'B':1})"
   ]
  },
  {
   "cell_type": "code",
   "execution_count": 244,
   "metadata": {},
   "outputs": [
    {
     "data": {
      "text/plain": [
       "['Ecology_2', 'Ecology_3', 'Shops_2']"
      ]
     },
     "execution_count": 244,
     "metadata": {},
     "output_type": "execute_result"
    }
   ],
   "source": [
    "train_df.select_dtypes(include='object').columns.tolist()"
   ]
  },
  {
   "cell_type": "code",
   "execution_count": 245,
   "metadata": {},
   "outputs": [
    {
     "data": {
      "text/plain": [
       "B    9903\n",
       "A      97\n",
       "Name: Ecology_2, dtype: int64"
      ]
     },
     "execution_count": 245,
     "metadata": {},
     "output_type": "execute_result"
    }
   ],
   "source": [
    "train_df['Ecology_2'].value_counts()"
   ]
  },
  {
   "cell_type": "code",
   "execution_count": 20,
   "metadata": {},
   "outputs": [
    {
     "data": {
      "text/plain": [
       "B    9725\n",
       "A     275\n",
       "Name: Ecology_3, dtype: int64"
      ]
     },
     "execution_count": 20,
     "metadata": {},
     "output_type": "execute_result"
    }
   ],
   "source": [
    "train_df['Ecology_3'].value_counts()"
   ]
  },
  {
   "cell_type": "code",
   "execution_count": 21,
   "metadata": {},
   "outputs": [
    {
     "data": {
      "text/plain": [
       "B    9175\n",
       "A     825\n",
       "Name: Shops_2, dtype: int64"
      ]
     },
     "execution_count": 21,
     "metadata": {},
     "output_type": "execute_result"
    }
   ],
   "source": [
    "train_df['Shops_2'].value_counts()"
   ]
  },
  {
   "cell_type": "code",
   "execution_count": null,
   "metadata": {},
   "outputs": [],
   "source": []
  },
  {
   "cell_type": "code",
   "execution_count": null,
   "metadata": {},
   "outputs": [],
   "source": []
  },
  {
   "cell_type": "code",
   "execution_count": null,
   "metadata": {},
   "outputs": [],
   "source": []
  },
  {
   "cell_type": "markdown",
   "metadata": {
    "execution": {
     "iopub.execute_input": "2022-06-14T16:07:43.341063Z",
     "iopub.status.busy": "2022-06-14T16:07:43.340585Z",
     "iopub.status.idle": "2022-06-14T16:07:43.562776Z",
     "shell.execute_reply": "2022-06-14T16:07:43.562068Z",
     "shell.execute_reply.started": "2022-06-14T16:07:43.341011Z"
    },
    "id": "7sb0CjF-Ve06",
    "outputId": "e1b4d51a-fa39-48c4-91f8-53a1213c89bc"
   },
   "source": [
    "## Работаем с выбросами признака \"Rooms\""
   ]
  },
  {
   "cell_type": "code",
   "execution_count": 22,
   "metadata": {
    "id": "ioa_Bw96gm8_"
   },
   "outputs": [],
   "source": [
    "rooms_med = train_df['Rooms'].median()\n",
    "train_df.loc[train_df['Rooms'].isin([0, 10, 19]), 'Rooms'] = rooms_med"
   ]
  },
  {
   "cell_type": "markdown",
   "metadata": {
    "execution": {
     "iopub.execute_input": "2022-06-14T16:07:43.564598Z",
     "iopub.status.busy": "2022-06-14T16:07:43.563739Z",
     "iopub.status.idle": "2022-06-14T16:07:43.577925Z",
     "shell.execute_reply": "2022-06-14T16:07:43.57679Z",
     "shell.execute_reply.started": "2022-06-14T16:07:43.564564Z"
    },
    "id": "YcHZTSDLV4mq",
    "outputId": "15fa0d8e-d79e-4a1b-a0a8-37f25909de4e"
   },
   "source": [
    "## Работаем с выбросами признаков \"LifeSquare\" и \"KitchenSquare\""
   ]
  },
  {
   "cell_type": "code",
   "execution_count": 23,
   "metadata": {
    "id": "Cg0YrzAjjI9c"
   },
   "outputs": [],
   "source": [
    "lifesq_med = train_df['LifeSquare'].median()\n",
    "kitchsq_med = train_df['KitchenSquare'].median()\n",
    "train_df.loc[train_df['LifeSquare'].isnull(), 'LifeSquare'] = lifesq_med\n",
    "train_df.loc[train_df['LifeSquare'] < 10, 'LifeSquare'] = lifesq_med\n",
    "train_df.loc[train_df['LifeSquare'] > 400, 'LifeSquare'] = lifesq_med\n",
    "train_df.loc[train_df['KitchenSquare'] < 5, 'KitchenSquare'] = kitchsq_med\n",
    "train_df.loc[train_df['KitchenSquare'] > 80, 'KitchenSquare'] = kitchsq_med"
   ]
  },
  {
   "cell_type": "markdown",
   "metadata": {
    "execution": {
     "iopub.execute_input": "2022-06-14T16:07:43.582417Z",
     "iopub.status.busy": "2022-06-14T16:07:43.58207Z",
     "iopub.status.idle": "2022-06-14T16:07:43.610949Z",
     "shell.execute_reply": "2022-06-14T16:07:43.609835Z",
     "shell.execute_reply.started": "2022-06-14T16:07:43.582385Z"
    },
    "id": "LnVH2f2FfVqA",
    "outputId": "693afe0c-2cb4-48d5-fb7d-4467b1ef4482"
   },
   "source": [
    "## Работаем с выбросами признака \"Square\""
   ]
  },
  {
   "cell_type": "code",
   "execution_count": 26,
   "metadata": {
    "id": "fdqXOKK5kBIx"
   },
   "outputs": [],
   "source": [
    "square_med = train_df['Square'].median()\n",
    "train_df.loc[train_df['Square'] < 16, 'Square'] = square_med\n",
    "train_df.loc[train_df['Square'] > 400, 'Square'] = square_med"
   ]
  },
  {
   "cell_type": "markdown",
   "metadata": {
    "execution": {
     "iopub.execute_input": "2022-06-14T16:07:43.614151Z",
     "iopub.status.busy": "2022-06-14T16:07:43.612782Z",
     "iopub.status.idle": "2022-06-14T16:07:43.623418Z",
     "shell.execute_reply": "2022-06-14T16:07:43.622468Z",
     "shell.execute_reply.started": "2022-06-14T16:07:43.614108Z"
    },
    "id": "02KAYd7YxwJW",
    "outputId": "2ae33475-d7c6-47b0-853a-43085910651b"
   },
   "source": [
    "## Работаем с выбросами признака \"HouseYear\""
   ]
  },
  {
   "cell_type": "code",
   "execution_count": 25,
   "metadata": {
    "id": "5RmxGmMCjdUr"
   },
   "outputs": [],
   "source": [
    "train_df.loc[train_df['HouseYear'] > 2020, 'HouseYear'] = 2020"
   ]
  },
  {
   "cell_type": "markdown",
   "metadata": {
    "id": "D7xJC4WRkl-h"
   },
   "source": [
    "## Работаем с выбросами признаков \"Floor\" и \"HouseFloor\""
   ]
  },
  {
   "cell_type": "code",
   "execution_count": 26,
   "metadata": {
    "execution": {
     "iopub.execute_input": "2022-06-14T16:07:43.625747Z",
     "iopub.status.busy": "2022-06-14T16:07:43.624872Z",
     "iopub.status.idle": "2022-06-14T16:07:43.648361Z",
     "shell.execute_reply": "2022-06-14T16:07:43.647326Z",
     "shell.execute_reply.started": "2022-06-14T16:07:43.625714Z"
    },
    "id": "znip1mbbwNTp",
    "outputId": "b239c857-f5c4-4c22-c01e-20381318a77c"
   },
   "outputs": [],
   "source": [
    "hfloor_med = train_df['HouseFloor'].median()\n",
    "train_df.loc[train_df['HouseFloor'] == 0, 'HouseFloor'] = hfloor_med"
   ]
  },
  {
   "cell_type": "code",
   "execution_count": 27,
   "metadata": {
    "id": "RXkIvMPEmzT0"
   },
   "outputs": [],
   "source": [
    "ind = train_df[train_df['Floor'] > train_df['HouseFloor']].index\n",
    "train_df.loc[ind, 'Floor'] = train_df.loc[ind, 'HouseFloor']"
   ]
  },
  {
   "cell_type": "markdown",
   "metadata": {},
   "source": [
    "## Вычисляем \"m_2_Price\" - стоимость квадратного метра общей площади"
   ]
  },
  {
   "cell_type": "code",
   "execution_count": 28,
   "metadata": {},
   "outputs": [],
   "source": [
    "train_df['m_2_Price'] = train_df['Price'] / train_df['Square']"
   ]
  },
  {
   "cell_type": "markdown",
   "metadata": {},
   "source": [
    "## На его основе создаем новые признаки m_2_MedPriceByDistrict - медианная стоимость квадратного метра в зависимости от района и m_2_MedPriceByHouseYear - медианная стоимость квадратного метра в зависимости от возраста дома"
   ]
  },
  {
   "cell_type": "code",
   "execution_count": 29,
   "metadata": {},
   "outputs": [],
   "source": [
    "m_2_MedPriceByDistrict = train_df.groupby(['DistrictId'], as_index=False).agg({'m_2_Price':'median'})\\\n",
    "                    .rename(columns={'m_2_Price':'m_2_MedPriceByDistrict'})\n",
    "m_2_MedPriceByHouseYear = train_df.groupby(['HouseYear'], as_index=False).agg({'m_2_Price':'median'})\\\n",
    "                    .rename(columns={'m_2_Price':'m_2_MedPriceByHouseYear'})"
   ]
  },
  {
   "cell_type": "markdown",
   "metadata": {},
   "source": [
    "Добавляем новые признаки к датасету"
   ]
  },
  {
   "cell_type": "code",
   "execution_count": 30,
   "metadata": {},
   "outputs": [
    {
     "data": {
      "text/html": [
       "<div>\n",
       "<style scoped>\n",
       "    .dataframe tbody tr th:only-of-type {\n",
       "        vertical-align: middle;\n",
       "    }\n",
       "\n",
       "    .dataframe tbody tr th {\n",
       "        vertical-align: top;\n",
       "    }\n",
       "\n",
       "    .dataframe thead th {\n",
       "        text-align: right;\n",
       "    }\n",
       "</style>\n",
       "<table border=\"1\" class=\"dataframe\">\n",
       "  <thead>\n",
       "    <tr style=\"text-align: right;\">\n",
       "      <th></th>\n",
       "      <th>Id</th>\n",
       "      <th>DistrictId</th>\n",
       "      <th>Rooms</th>\n",
       "      <th>Square</th>\n",
       "      <th>LifeSquare</th>\n",
       "      <th>KitchenSquare</th>\n",
       "      <th>Floor</th>\n",
       "      <th>HouseFloor</th>\n",
       "      <th>HouseYear</th>\n",
       "      <th>Ecology_1</th>\n",
       "      <th>...</th>\n",
       "      <th>Social_1</th>\n",
       "      <th>Social_2</th>\n",
       "      <th>Social_3</th>\n",
       "      <th>Helthcare_2</th>\n",
       "      <th>Shops_1</th>\n",
       "      <th>Shops_2</th>\n",
       "      <th>Price</th>\n",
       "      <th>m_2_Price</th>\n",
       "      <th>m_2_MedPriceByDistrict</th>\n",
       "      <th>m_2_MedPriceByHouseYear</th>\n",
       "    </tr>\n",
       "  </thead>\n",
       "  <tbody>\n",
       "    <tr>\n",
       "      <th>0</th>\n",
       "      <td>11809</td>\n",
       "      <td>27</td>\n",
       "      <td>3.0</td>\n",
       "      <td>115.027311</td>\n",
       "      <td>32.781260</td>\n",
       "      <td>10.0</td>\n",
       "      <td>4.0</td>\n",
       "      <td>10.0</td>\n",
       "      <td>2014</td>\n",
       "      <td>0.075424</td>\n",
       "      <td>...</td>\n",
       "      <td>11</td>\n",
       "      <td>3097</td>\n",
       "      <td>0</td>\n",
       "      <td>0</td>\n",
       "      <td>0</td>\n",
       "      <td>B</td>\n",
       "      <td>305018.871089</td>\n",
       "      <td>2651.708272</td>\n",
       "      <td>2759.086353</td>\n",
       "      <td>2793.739365</td>\n",
       "    </tr>\n",
       "    <tr>\n",
       "      <th>1</th>\n",
       "      <td>3013</td>\n",
       "      <td>22</td>\n",
       "      <td>1.0</td>\n",
       "      <td>39.832524</td>\n",
       "      <td>23.169223</td>\n",
       "      <td>8.0</td>\n",
       "      <td>7.0</td>\n",
       "      <td>8.0</td>\n",
       "      <td>1966</td>\n",
       "      <td>0.118537</td>\n",
       "      <td>...</td>\n",
       "      <td>30</td>\n",
       "      <td>6207</td>\n",
       "      <td>1</td>\n",
       "      <td>1</td>\n",
       "      <td>0</td>\n",
       "      <td>B</td>\n",
       "      <td>177734.553407</td>\n",
       "      <td>4462.045990</td>\n",
       "      <td>3553.678687</td>\n",
       "      <td>4376.488083</td>\n",
       "    </tr>\n",
       "    <tr>\n",
       "      <th>2</th>\n",
       "      <td>8215</td>\n",
       "      <td>1</td>\n",
       "      <td>3.0</td>\n",
       "      <td>78.342215</td>\n",
       "      <td>47.671972</td>\n",
       "      <td>10.0</td>\n",
       "      <td>2.0</td>\n",
       "      <td>17.0</td>\n",
       "      <td>1988</td>\n",
       "      <td>0.025609</td>\n",
       "      <td>...</td>\n",
       "      <td>33</td>\n",
       "      <td>5261</td>\n",
       "      <td>0</td>\n",
       "      <td>3</td>\n",
       "      <td>1</td>\n",
       "      <td>B</td>\n",
       "      <td>282078.720850</td>\n",
       "      <td>3600.596698</td>\n",
       "      <td>3251.647396</td>\n",
       "      <td>4447.681698</td>\n",
       "    </tr>\n",
       "    <tr>\n",
       "      <th>3</th>\n",
       "      <td>2352</td>\n",
       "      <td>1</td>\n",
       "      <td>1.0</td>\n",
       "      <td>40.409907</td>\n",
       "      <td>32.781260</td>\n",
       "      <td>6.0</td>\n",
       "      <td>10.0</td>\n",
       "      <td>22.0</td>\n",
       "      <td>1977</td>\n",
       "      <td>0.007122</td>\n",
       "      <td>...</td>\n",
       "      <td>1</td>\n",
       "      <td>264</td>\n",
       "      <td>0</td>\n",
       "      <td>0</td>\n",
       "      <td>1</td>\n",
       "      <td>B</td>\n",
       "      <td>168106.007630</td>\n",
       "      <td>4160.019670</td>\n",
       "      <td>3251.647396</td>\n",
       "      <td>2901.326376</td>\n",
       "    </tr>\n",
       "    <tr>\n",
       "      <th>4</th>\n",
       "      <td>13866</td>\n",
       "      <td>94</td>\n",
       "      <td>2.0</td>\n",
       "      <td>64.285067</td>\n",
       "      <td>38.562517</td>\n",
       "      <td>9.0</td>\n",
       "      <td>16.0</td>\n",
       "      <td>16.0</td>\n",
       "      <td>1972</td>\n",
       "      <td>0.282798</td>\n",
       "      <td>...</td>\n",
       "      <td>33</td>\n",
       "      <td>8667</td>\n",
       "      <td>2</td>\n",
       "      <td>0</td>\n",
       "      <td>6</td>\n",
       "      <td>B</td>\n",
       "      <td>343995.102962</td>\n",
       "      <td>5351.088794</td>\n",
       "      <td>4219.992382</td>\n",
       "      <td>4285.794408</td>\n",
       "    </tr>\n",
       "  </tbody>\n",
       "</table>\n",
       "<p>5 rows × 22 columns</p>\n",
       "</div>"
      ],
      "text/plain": [
       "      Id  DistrictId  Rooms      Square  LifeSquare  KitchenSquare  Floor  \\\n",
       "0  11809          27    3.0  115.027311   32.781260           10.0    4.0   \n",
       "1   3013          22    1.0   39.832524   23.169223            8.0    7.0   \n",
       "2   8215           1    3.0   78.342215   47.671972           10.0    2.0   \n",
       "3   2352           1    1.0   40.409907   32.781260            6.0   10.0   \n",
       "4  13866          94    2.0   64.285067   38.562517            9.0   16.0   \n",
       "\n",
       "   HouseFloor  HouseYear  Ecology_1  ... Social_1 Social_2  Social_3  \\\n",
       "0        10.0       2014   0.075424  ...       11     3097         0   \n",
       "1         8.0       1966   0.118537  ...       30     6207         1   \n",
       "2        17.0       1988   0.025609  ...       33     5261         0   \n",
       "3        22.0       1977   0.007122  ...        1      264         0   \n",
       "4        16.0       1972   0.282798  ...       33     8667         2   \n",
       "\n",
       "   Helthcare_2  Shops_1  Shops_2          Price    m_2_Price  \\\n",
       "0            0        0        B  305018.871089  2651.708272   \n",
       "1            1        0        B  177734.553407  4462.045990   \n",
       "2            3        1        B  282078.720850  3600.596698   \n",
       "3            0        1        B  168106.007630  4160.019670   \n",
       "4            0        6        B  343995.102962  5351.088794   \n",
       "\n",
       "   m_2_MedPriceByDistrict  m_2_MedPriceByHouseYear  \n",
       "0             2759.086353              2793.739365  \n",
       "1             3553.678687              4376.488083  \n",
       "2             3251.647396              4447.681698  \n",
       "3             3251.647396              2901.326376  \n",
       "4             4219.992382              4285.794408  \n",
       "\n",
       "[5 rows x 22 columns]"
      ]
     },
     "execution_count": 30,
     "metadata": {},
     "output_type": "execute_result"
    }
   ],
   "source": [
    "train_df = train_df.merge(m_2_MedPriceByDistrict, on=['DistrictId'], how='left')\n",
    "train_df = train_df.merge(m_2_MedPriceByHouseYear, on=['HouseYear'], how='left')\n",
    "train_df.head()"
   ]
  },
  {
   "cell_type": "code",
   "execution_count": 31,
   "metadata": {},
   "outputs": [
    {
     "data": {
      "text/html": [
       "<div>\n",
       "<style scoped>\n",
       "    .dataframe tbody tr th:only-of-type {\n",
       "        vertical-align: middle;\n",
       "    }\n",
       "\n",
       "    .dataframe tbody tr th {\n",
       "        vertical-align: top;\n",
       "    }\n",
       "\n",
       "    .dataframe thead th {\n",
       "        text-align: right;\n",
       "    }\n",
       "</style>\n",
       "<table border=\"1\" class=\"dataframe\">\n",
       "  <thead>\n",
       "    <tr style=\"text-align: right;\">\n",
       "      <th></th>\n",
       "      <th>Id</th>\n",
       "      <th>DistrictId</th>\n",
       "      <th>Rooms</th>\n",
       "      <th>Square</th>\n",
       "      <th>LifeSquare</th>\n",
       "      <th>KitchenSquare</th>\n",
       "      <th>Floor</th>\n",
       "      <th>HouseFloor</th>\n",
       "      <th>HouseYear</th>\n",
       "      <th>Ecology_1</th>\n",
       "      <th>Social_1</th>\n",
       "      <th>Social_2</th>\n",
       "      <th>Social_3</th>\n",
       "      <th>Helthcare_2</th>\n",
       "      <th>Shops_1</th>\n",
       "      <th>Price</th>\n",
       "      <th>m_2_Price</th>\n",
       "      <th>m_2_MedPriceByDistrict</th>\n",
       "      <th>m_2_MedPriceByHouseYear</th>\n",
       "    </tr>\n",
       "  </thead>\n",
       "  <tbody>\n",
       "    <tr>\n",
       "      <th>count</th>\n",
       "      <td>10000.00000</td>\n",
       "      <td>10000.000000</td>\n",
       "      <td>10000.000000</td>\n",
       "      <td>10000.000000</td>\n",
       "      <td>10000.000000</td>\n",
       "      <td>10000.000000</td>\n",
       "      <td>10000.00000</td>\n",
       "      <td>10000.000000</td>\n",
       "      <td>10000.000000</td>\n",
       "      <td>10000.000000</td>\n",
       "      <td>10000.000000</td>\n",
       "      <td>10000.000000</td>\n",
       "      <td>10000.000000</td>\n",
       "      <td>10000.000000</td>\n",
       "      <td>10000.000000</td>\n",
       "      <td>10000.000000</td>\n",
       "      <td>10000.000000</td>\n",
       "      <td>10000.000000</td>\n",
       "      <td>10000.000000</td>\n",
       "    </tr>\n",
       "    <tr>\n",
       "      <th>mean</th>\n",
       "      <td>8383.40770</td>\n",
       "      <td>50.400800</td>\n",
       "      <td>1.888800</td>\n",
       "      <td>56.228457</td>\n",
       "      <td>35.980607</td>\n",
       "      <td>7.490600</td>\n",
       "      <td>7.70040</td>\n",
       "      <td>12.609400</td>\n",
       "      <td>1984.872400</td>\n",
       "      <td>0.118858</td>\n",
       "      <td>24.687000</td>\n",
       "      <td>5352.157400</td>\n",
       "      <td>8.039200</td>\n",
       "      <td>1.319500</td>\n",
       "      <td>4.231300</td>\n",
       "      <td>214138.857399</td>\n",
       "      <td>3891.739716</td>\n",
       "      <td>3927.295723</td>\n",
       "      <td>3780.144330</td>\n",
       "    </tr>\n",
       "    <tr>\n",
       "      <th>std</th>\n",
       "      <td>4859.01902</td>\n",
       "      <td>43.587592</td>\n",
       "      <td>0.812096</td>\n",
       "      <td>19.058793</td>\n",
       "      <td>15.378518</td>\n",
       "      <td>3.290409</td>\n",
       "      <td>5.30406</td>\n",
       "      <td>6.775974</td>\n",
       "      <td>18.416347</td>\n",
       "      <td>0.119025</td>\n",
       "      <td>17.532614</td>\n",
       "      <td>4006.799803</td>\n",
       "      <td>23.831875</td>\n",
       "      <td>1.493601</td>\n",
       "      <td>4.806341</td>\n",
       "      <td>92872.293865</td>\n",
       "      <td>1251.728243</td>\n",
       "      <td>997.479341</td>\n",
       "      <td>762.735269</td>\n",
       "    </tr>\n",
       "    <tr>\n",
       "      <th>min</th>\n",
       "      <td>0.00000</td>\n",
       "      <td>0.000000</td>\n",
       "      <td>1.000000</td>\n",
       "      <td>16.117154</td>\n",
       "      <td>10.523868</td>\n",
       "      <td>5.000000</td>\n",
       "      <td>0.00000</td>\n",
       "      <td>0.000000</td>\n",
       "      <td>1910.000000</td>\n",
       "      <td>0.000000</td>\n",
       "      <td>0.000000</td>\n",
       "      <td>168.000000</td>\n",
       "      <td>0.000000</td>\n",
       "      <td>0.000000</td>\n",
       "      <td>0.000000</td>\n",
       "      <td>59174.778028</td>\n",
       "      <td>752.588644</td>\n",
       "      <td>2273.498737</td>\n",
       "      <td>2764.147132</td>\n",
       "    </tr>\n",
       "    <tr>\n",
       "      <th>25%</th>\n",
       "      <td>4169.50000</td>\n",
       "      <td>20.000000</td>\n",
       "      <td>1.000000</td>\n",
       "      <td>41.800063</td>\n",
       "      <td>27.654813</td>\n",
       "      <td>6.000000</td>\n",
       "      <td>4.00000</td>\n",
       "      <td>9.000000</td>\n",
       "      <td>1974.000000</td>\n",
       "      <td>0.017647</td>\n",
       "      <td>6.000000</td>\n",
       "      <td>1564.000000</td>\n",
       "      <td>0.000000</td>\n",
       "      <td>0.000000</td>\n",
       "      <td>1.000000</td>\n",
       "      <td>153872.633942</td>\n",
       "      <td>2916.973642</td>\n",
       "      <td>2938.048239</td>\n",
       "      <td>2901.326376</td>\n",
       "    </tr>\n",
       "    <tr>\n",
       "      <th>50%</th>\n",
       "      <td>8394.50000</td>\n",
       "      <td>36.000000</td>\n",
       "      <td>2.000000</td>\n",
       "      <td>52.513310</td>\n",
       "      <td>32.781260</td>\n",
       "      <td>6.000000</td>\n",
       "      <td>7.00000</td>\n",
       "      <td>13.000000</td>\n",
       "      <td>1977.000000</td>\n",
       "      <td>0.075424</td>\n",
       "      <td>25.000000</td>\n",
       "      <td>5285.000000</td>\n",
       "      <td>2.000000</td>\n",
       "      <td>1.000000</td>\n",
       "      <td>3.000000</td>\n",
       "      <td>192269.644879</td>\n",
       "      <td>3907.999942</td>\n",
       "      <td>4134.353749</td>\n",
       "      <td>4285.794408</td>\n",
       "    </tr>\n",
       "    <tr>\n",
       "      <th>75%</th>\n",
       "      <td>12592.50000</td>\n",
       "      <td>75.000000</td>\n",
       "      <td>2.000000</td>\n",
       "      <td>65.889736</td>\n",
       "      <td>41.415441</td>\n",
       "      <td>9.000000</td>\n",
       "      <td>11.00000</td>\n",
       "      <td>17.000000</td>\n",
       "      <td>2001.000000</td>\n",
       "      <td>0.195781</td>\n",
       "      <td>36.000000</td>\n",
       "      <td>7227.000000</td>\n",
       "      <td>5.000000</td>\n",
       "      <td>2.000000</td>\n",
       "      <td>6.000000</td>\n",
       "      <td>249135.462171</td>\n",
       "      <td>4690.526670</td>\n",
       "      <td>4562.026777</td>\n",
       "      <td>4409.376396</td>\n",
       "    </tr>\n",
       "    <tr>\n",
       "      <th>max</th>\n",
       "      <td>16798.00000</td>\n",
       "      <td>209.000000</td>\n",
       "      <td>6.000000</td>\n",
       "      <td>275.645284</td>\n",
       "      <td>263.542020</td>\n",
       "      <td>78.000000</td>\n",
       "      <td>42.00000</td>\n",
       "      <td>117.000000</td>\n",
       "      <td>2020.000000</td>\n",
       "      <td>0.521867</td>\n",
       "      <td>74.000000</td>\n",
       "      <td>19083.000000</td>\n",
       "      <td>141.000000</td>\n",
       "      <td>6.000000</td>\n",
       "      <td>23.000000</td>\n",
       "      <td>633233.466570</td>\n",
       "      <td>11854.652892</td>\n",
       "      <td>8700.768533</td>\n",
       "      <td>7823.822055</td>\n",
       "    </tr>\n",
       "  </tbody>\n",
       "</table>\n",
       "</div>"
      ],
      "text/plain": [
       "                Id    DistrictId         Rooms        Square    LifeSquare  \\\n",
       "count  10000.00000  10000.000000  10000.000000  10000.000000  10000.000000   \n",
       "mean    8383.40770     50.400800      1.888800     56.228457     35.980607   \n",
       "std     4859.01902     43.587592      0.812096     19.058793     15.378518   \n",
       "min        0.00000      0.000000      1.000000     16.117154     10.523868   \n",
       "25%     4169.50000     20.000000      1.000000     41.800063     27.654813   \n",
       "50%     8394.50000     36.000000      2.000000     52.513310     32.781260   \n",
       "75%    12592.50000     75.000000      2.000000     65.889736     41.415441   \n",
       "max    16798.00000    209.000000      6.000000    275.645284    263.542020   \n",
       "\n",
       "       KitchenSquare        Floor    HouseFloor     HouseYear     Ecology_1  \\\n",
       "count   10000.000000  10000.00000  10000.000000  10000.000000  10000.000000   \n",
       "mean        7.490600      7.70040     12.609400   1984.872400      0.118858   \n",
       "std         3.290409      5.30406      6.775974     18.416347      0.119025   \n",
       "min         5.000000      0.00000      0.000000   1910.000000      0.000000   \n",
       "25%         6.000000      4.00000      9.000000   1974.000000      0.017647   \n",
       "50%         6.000000      7.00000     13.000000   1977.000000      0.075424   \n",
       "75%         9.000000     11.00000     17.000000   2001.000000      0.195781   \n",
       "max        78.000000     42.00000    117.000000   2020.000000      0.521867   \n",
       "\n",
       "           Social_1      Social_2      Social_3   Helthcare_2       Shops_1  \\\n",
       "count  10000.000000  10000.000000  10000.000000  10000.000000  10000.000000   \n",
       "mean      24.687000   5352.157400      8.039200      1.319500      4.231300   \n",
       "std       17.532614   4006.799803     23.831875      1.493601      4.806341   \n",
       "min        0.000000    168.000000      0.000000      0.000000      0.000000   \n",
       "25%        6.000000   1564.000000      0.000000      0.000000      1.000000   \n",
       "50%       25.000000   5285.000000      2.000000      1.000000      3.000000   \n",
       "75%       36.000000   7227.000000      5.000000      2.000000      6.000000   \n",
       "max       74.000000  19083.000000    141.000000      6.000000     23.000000   \n",
       "\n",
       "               Price     m_2_Price  m_2_MedPriceByDistrict  \\\n",
       "count   10000.000000  10000.000000            10000.000000   \n",
       "mean   214138.857399   3891.739716             3927.295723   \n",
       "std     92872.293865   1251.728243              997.479341   \n",
       "min     59174.778028    752.588644             2273.498737   \n",
       "25%    153872.633942   2916.973642             2938.048239   \n",
       "50%    192269.644879   3907.999942             4134.353749   \n",
       "75%    249135.462171   4690.526670             4562.026777   \n",
       "max    633233.466570  11854.652892             8700.768533   \n",
       "\n",
       "       m_2_MedPriceByHouseYear  \n",
       "count             10000.000000  \n",
       "mean               3780.144330  \n",
       "std                 762.735269  \n",
       "min                2764.147132  \n",
       "25%                2901.326376  \n",
       "50%                4285.794408  \n",
       "75%                4409.376396  \n",
       "max                7823.822055  "
      ]
     },
     "execution_count": 31,
     "metadata": {},
     "output_type": "execute_result"
    }
   ],
   "source": [
    "train_df.describe()"
   ]
  },
  {
   "cell_type": "markdown",
   "metadata": {},
   "source": [
    "## Отбираем признаки для модели"
   ]
  },
  {
   "cell_type": "code",
   "execution_count": 32,
   "metadata": {},
   "outputs": [],
   "source": [
    "feature_names = ['Rooms', 'Square', 'LifeSquare', 'KitchenSquare', 'Floor', 'HouseFloor', 'HouseYear', \n",
    "                  \n",
    "                 'Ecology_1','Social_1', 'Social_3', 'Helthcare_2', 'Shops_1', \n",
    "                 ]\n",
    "target_name = 'Price'"
   ]
  },
  {
   "cell_type": "code",
   "execution_count": 33,
   "metadata": {},
   "outputs": [
    {
     "data": {
      "text/html": [
       "<div>\n",
       "<style scoped>\n",
       "    .dataframe tbody tr th:only-of-type {\n",
       "        vertical-align: middle;\n",
       "    }\n",
       "\n",
       "    .dataframe tbody tr th {\n",
       "        vertical-align: top;\n",
       "    }\n",
       "\n",
       "    .dataframe thead th {\n",
       "        text-align: right;\n",
       "    }\n",
       "</style>\n",
       "<table border=\"1\" class=\"dataframe\">\n",
       "  <thead>\n",
       "    <tr style=\"text-align: right;\">\n",
       "      <th></th>\n",
       "      <th>Rooms</th>\n",
       "      <th>Square</th>\n",
       "      <th>LifeSquare</th>\n",
       "      <th>KitchenSquare</th>\n",
       "      <th>Floor</th>\n",
       "      <th>HouseFloor</th>\n",
       "      <th>HouseYear</th>\n",
       "      <th>Ecology_1</th>\n",
       "      <th>Social_1</th>\n",
       "      <th>Social_3</th>\n",
       "      <th>Helthcare_2</th>\n",
       "      <th>Shops_1</th>\n",
       "      <th>Price</th>\n",
       "    </tr>\n",
       "  </thead>\n",
       "  <tbody>\n",
       "    <tr>\n",
       "      <th>0</th>\n",
       "      <td>3.0</td>\n",
       "      <td>115.027311</td>\n",
       "      <td>32.781260</td>\n",
       "      <td>10.0</td>\n",
       "      <td>4.0</td>\n",
       "      <td>10.0</td>\n",
       "      <td>2014</td>\n",
       "      <td>0.075424</td>\n",
       "      <td>11</td>\n",
       "      <td>0</td>\n",
       "      <td>0</td>\n",
       "      <td>0</td>\n",
       "      <td>305018.871089</td>\n",
       "    </tr>\n",
       "    <tr>\n",
       "      <th>1</th>\n",
       "      <td>1.0</td>\n",
       "      <td>39.832524</td>\n",
       "      <td>23.169223</td>\n",
       "      <td>8.0</td>\n",
       "      <td>7.0</td>\n",
       "      <td>8.0</td>\n",
       "      <td>1966</td>\n",
       "      <td>0.118537</td>\n",
       "      <td>30</td>\n",
       "      <td>1</td>\n",
       "      <td>1</td>\n",
       "      <td>0</td>\n",
       "      <td>177734.553407</td>\n",
       "    </tr>\n",
       "    <tr>\n",
       "      <th>2</th>\n",
       "      <td>3.0</td>\n",
       "      <td>78.342215</td>\n",
       "      <td>47.671972</td>\n",
       "      <td>10.0</td>\n",
       "      <td>2.0</td>\n",
       "      <td>17.0</td>\n",
       "      <td>1988</td>\n",
       "      <td>0.025609</td>\n",
       "      <td>33</td>\n",
       "      <td>0</td>\n",
       "      <td>3</td>\n",
       "      <td>1</td>\n",
       "      <td>282078.720850</td>\n",
       "    </tr>\n",
       "    <tr>\n",
       "      <th>3</th>\n",
       "      <td>1.0</td>\n",
       "      <td>40.409907</td>\n",
       "      <td>32.781260</td>\n",
       "      <td>6.0</td>\n",
       "      <td>10.0</td>\n",
       "      <td>22.0</td>\n",
       "      <td>1977</td>\n",
       "      <td>0.007122</td>\n",
       "      <td>1</td>\n",
       "      <td>0</td>\n",
       "      <td>0</td>\n",
       "      <td>1</td>\n",
       "      <td>168106.007630</td>\n",
       "    </tr>\n",
       "    <tr>\n",
       "      <th>4</th>\n",
       "      <td>2.0</td>\n",
       "      <td>64.285067</td>\n",
       "      <td>38.562517</td>\n",
       "      <td>9.0</td>\n",
       "      <td>16.0</td>\n",
       "      <td>16.0</td>\n",
       "      <td>1972</td>\n",
       "      <td>0.282798</td>\n",
       "      <td>33</td>\n",
       "      <td>2</td>\n",
       "      <td>0</td>\n",
       "      <td>6</td>\n",
       "      <td>343995.102962</td>\n",
       "    </tr>\n",
       "  </tbody>\n",
       "</table>\n",
       "</div>"
      ],
      "text/plain": [
       "   Rooms      Square  LifeSquare  KitchenSquare  Floor  HouseFloor  HouseYear  \\\n",
       "0    3.0  115.027311   32.781260           10.0    4.0        10.0       2014   \n",
       "1    1.0   39.832524   23.169223            8.0    7.0         8.0       1966   \n",
       "2    3.0   78.342215   47.671972           10.0    2.0        17.0       1988   \n",
       "3    1.0   40.409907   32.781260            6.0   10.0        22.0       1977   \n",
       "4    2.0   64.285067   38.562517            9.0   16.0        16.0       1972   \n",
       "\n",
       "   Ecology_1  Social_1  Social_3  Helthcare_2  Shops_1          Price  \n",
       "0   0.075424        11         0            0        0  305018.871089  \n",
       "1   0.118537        30         1            1        0  177734.553407  \n",
       "2   0.025609        33         0            3        1  282078.720850  \n",
       "3   0.007122         1         0            0        1  168106.007630  \n",
       "4   0.282798        33         2            0        6  343995.102962  "
      ]
     },
     "execution_count": 33,
     "metadata": {},
     "output_type": "execute_result"
    }
   ],
   "source": [
    "df = train_df[feature_names + [target_name]]\n",
    "df.head()"
   ]
  },
  {
   "cell_type": "markdown",
   "metadata": {},
   "source": [
    "## Масштабируем признаки"
   ]
  },
  {
   "cell_type": "code",
   "execution_count": 35,
   "metadata": {},
   "outputs": [],
   "source": [
    "scaler = StandardScaler()\n",
    "stand_features = scaler.fit_transform(df[feature_names])"
   ]
  },
  {
   "cell_type": "code",
   "execution_count": 36,
   "metadata": {},
   "outputs": [],
   "source": [
    "df[df.select_dtypes(np.float64).columns] = df.select_dtypes(np.float64).astype(np.float32)"
   ]
  },
  {
   "cell_type": "code",
   "execution_count": 41,
   "metadata": {
    "scrolled": true
   },
   "outputs": [
    {
     "data": {
      "text/html": [
       "<div>\n",
       "<style scoped>\n",
       "    .dataframe tbody tr th:only-of-type {\n",
       "        vertical-align: middle;\n",
       "    }\n",
       "\n",
       "    .dataframe tbody tr th {\n",
       "        vertical-align: top;\n",
       "    }\n",
       "\n",
       "    .dataframe thead th {\n",
       "        text-align: right;\n",
       "    }\n",
       "</style>\n",
       "<table border=\"1\" class=\"dataframe\">\n",
       "  <thead>\n",
       "    <tr style=\"text-align: right;\">\n",
       "      <th></th>\n",
       "      <th>Rooms</th>\n",
       "      <th>Square</th>\n",
       "      <th>LifeSquare</th>\n",
       "      <th>KitchenSquare</th>\n",
       "      <th>Floor</th>\n",
       "      <th>HouseFloor</th>\n",
       "      <th>HouseYear</th>\n",
       "      <th>Ecology_1</th>\n",
       "      <th>Social_1</th>\n",
       "      <th>Social_3</th>\n",
       "      <th>Helthcare_2</th>\n",
       "      <th>Shops_1</th>\n",
       "      <th>Price</th>\n",
       "    </tr>\n",
       "  </thead>\n",
       "  <tbody>\n",
       "    <tr>\n",
       "      <th>0</th>\n",
       "      <td>1.368379</td>\n",
       "      <td>3.085284</td>\n",
       "      <td>-0.208050</td>\n",
       "      <td>0.762679</td>\n",
       "      <td>-0.697689</td>\n",
       "      <td>-0.385115</td>\n",
       "      <td>1.581696</td>\n",
       "      <td>-0.364931</td>\n",
       "      <td>-0.780698</td>\n",
       "      <td>-0.337347</td>\n",
       "      <td>-0.883480</td>\n",
       "      <td>-0.880402</td>\n",
       "      <td>305018.875000</td>\n",
       "    </tr>\n",
       "    <tr>\n",
       "      <th>1</th>\n",
       "      <td>-1.094506</td>\n",
       "      <td>-0.860325</td>\n",
       "      <td>-0.833112</td>\n",
       "      <td>0.154821</td>\n",
       "      <td>-0.132056</td>\n",
       "      <td>-0.680290</td>\n",
       "      <td>-1.024815</td>\n",
       "      <td>-0.002690</td>\n",
       "      <td>0.303050</td>\n",
       "      <td>-0.295384</td>\n",
       "      <td>-0.213923</td>\n",
       "      <td>-0.880402</td>\n",
       "      <td>177734.546875</td>\n",
       "    </tr>\n",
       "    <tr>\n",
       "      <th>2</th>\n",
       "      <td>1.368379</td>\n",
       "      <td>1.160350</td>\n",
       "      <td>0.760278</td>\n",
       "      <td>0.762679</td>\n",
       "      <td>-1.074778</td>\n",
       "      <td>0.647998</td>\n",
       "      <td>0.169836</td>\n",
       "      <td>-0.783473</td>\n",
       "      <td>0.474169</td>\n",
       "      <td>-0.337347</td>\n",
       "      <td>1.125190</td>\n",
       "      <td>-0.672333</td>\n",
       "      <td>282078.718750</td>\n",
       "    </tr>\n",
       "    <tr>\n",
       "      <th>3</th>\n",
       "      <td>-1.094506</td>\n",
       "      <td>-0.830028</td>\n",
       "      <td>-0.208050</td>\n",
       "      <td>-0.453036</td>\n",
       "      <td>0.433576</td>\n",
       "      <td>1.385936</td>\n",
       "      <td>-0.427489</td>\n",
       "      <td>-0.938799</td>\n",
       "      <td>-1.351093</td>\n",
       "      <td>-0.337347</td>\n",
       "      <td>-0.883480</td>\n",
       "      <td>-0.672333</td>\n",
       "      <td>168106.000000</td>\n",
       "    </tr>\n",
       "    <tr>\n",
       "      <th>4</th>\n",
       "      <td>0.136936</td>\n",
       "      <td>0.422745</td>\n",
       "      <td>0.167899</td>\n",
       "      <td>0.458750</td>\n",
       "      <td>1.564842</td>\n",
       "      <td>0.500411</td>\n",
       "      <td>-0.699001</td>\n",
       "      <td>1.377425</td>\n",
       "      <td>0.474169</td>\n",
       "      <td>-0.253421</td>\n",
       "      <td>-0.883480</td>\n",
       "      <td>0.368011</td>\n",
       "      <td>343995.093750</td>\n",
       "    </tr>\n",
       "  </tbody>\n",
       "</table>\n",
       "</div>"
      ],
      "text/plain": [
       "      Rooms    Square  LifeSquare  KitchenSquare     Floor  HouseFloor  \\\n",
       "0  1.368379  3.085284   -0.208050       0.762679 -0.697689   -0.385115   \n",
       "1 -1.094506 -0.860325   -0.833112       0.154821 -0.132056   -0.680290   \n",
       "2  1.368379  1.160350    0.760278       0.762679 -1.074778    0.647998   \n",
       "3 -1.094506 -0.830028   -0.208050      -0.453036  0.433576    1.385936   \n",
       "4  0.136936  0.422745    0.167899       0.458750  1.564842    0.500411   \n",
       "\n",
       "   HouseYear  Ecology_1  Social_1  Social_3  Helthcare_2   Shops_1  \\\n",
       "0   1.581696  -0.364931 -0.780698 -0.337347    -0.883480 -0.880402   \n",
       "1  -1.024815  -0.002690  0.303050 -0.295384    -0.213923 -0.880402   \n",
       "2   0.169836  -0.783473  0.474169 -0.337347     1.125190 -0.672333   \n",
       "3  -0.427489  -0.938799 -1.351093 -0.337347    -0.883480 -0.672333   \n",
       "4  -0.699001   1.377425  0.474169 -0.253421    -0.883480  0.368011   \n",
       "\n",
       "           Price  \n",
       "0  305018.875000  \n",
       "1  177734.546875  \n",
       "2  282078.718750  \n",
       "3  168106.000000  \n",
       "4  343995.093750  "
      ]
     },
     "execution_count": 41,
     "metadata": {},
     "output_type": "execute_result"
    }
   ],
   "source": [
    "df[feature_names] = pd.DataFrame(stand_features, columns=feature_names)\n",
    "df.head()"
   ]
  },
  {
   "cell_type": "code",
   "execution_count": 42,
   "metadata": {},
   "outputs": [
    {
     "ename": "NameError",
     "evalue": "name 'X_train' is not defined",
     "output_type": "error",
     "traceback": [
      "\u001b[1;31m---------------------------------------------------------------------------\u001b[0m",
      "\u001b[1;31mNameError\u001b[0m                                 Traceback (most recent call last)",
      "\u001b[1;32m<ipython-input-42-8298b27616ee>\u001b[0m in \u001b[0;36m<module>\u001b[1;34m\u001b[0m\n\u001b[1;32m----> 1\u001b[1;33m \u001b[0mX_train\u001b[0m\u001b[1;33m.\u001b[0m\u001b[0misna\u001b[0m\u001b[1;33m(\u001b[0m\u001b[1;33m)\u001b[0m\u001b[1;33m.\u001b[0m\u001b[0msum\u001b[0m\u001b[1;33m(\u001b[0m\u001b[1;33m)\u001b[0m\u001b[1;33m.\u001b[0m\u001b[0msum\u001b[0m\u001b[1;33m(\u001b[0m\u001b[1;33m)\u001b[0m\u001b[1;33m,\u001b[0m \u001b[0mX_valid\u001b[0m\u001b[1;33m.\u001b[0m\u001b[0misna\u001b[0m\u001b[1;33m(\u001b[0m\u001b[1;33m)\u001b[0m\u001b[1;33m.\u001b[0m\u001b[0msum\u001b[0m\u001b[1;33m(\u001b[0m\u001b[1;33m)\u001b[0m\u001b[1;33m.\u001b[0m\u001b[0msum\u001b[0m\u001b[1;33m(\u001b[0m\u001b[1;33m)\u001b[0m\u001b[1;33m,\u001b[0m \u001b[0mtest_df\u001b[0m\u001b[1;33m.\u001b[0m\u001b[0misna\u001b[0m\u001b[1;33m(\u001b[0m\u001b[1;33m)\u001b[0m\u001b[1;33m.\u001b[0m\u001b[0msum\u001b[0m\u001b[1;33m(\u001b[0m\u001b[1;33m)\u001b[0m\u001b[1;33m.\u001b[0m\u001b[0msum\u001b[0m\u001b[1;33m(\u001b[0m\u001b[1;33m)\u001b[0m\u001b[1;33m\u001b[0m\u001b[1;33m\u001b[0m\u001b[0m\n\u001b[0m",
      "\u001b[1;31mNameError\u001b[0m: name 'X_train' is not defined"
     ]
    }
   ],
   "source": [
    "X_train.isna().sum().sum(), X_valid.isna().sum().sum(), test_df.isna().sum().sum()"
   ]
  },
  {
   "cell_type": "markdown",
   "metadata": {},
   "source": [
    "## Разбиваем на обучающую и валидационную выборку"
   ]
  },
  {
   "cell_type": "code",
   "execution_count": 43,
   "metadata": {},
   "outputs": [],
   "source": [
    "X = df[feature_names]\n",
    "y = df[target_name]\n",
    "X_train, X_valid, y_train, y_valid = train_test_split(X, y, train_size=0.67, shuffle=True, random_state=42)"
   ]
  },
  {
   "cell_type": "markdown",
   "metadata": {},
   "source": [
    "## Строим и обучаем модель"
   ]
  },
  {
   "cell_type": "code",
   "execution_count": 44,
   "metadata": {},
   "outputs": [
    {
     "data": {
      "text/plain": [
       "GradientBoostingRegressor(max_depth=5, n_estimators=200, random_state=42)"
      ]
     },
     "execution_count": 44,
     "metadata": {},
     "output_type": "execute_result"
    }
   ],
   "source": [
    "gb_model = GradientBoostingRegressor(max_depth=5, n_estimators=200, random_state=42)\n",
    "gb_model.fit(X_train, y_train)"
   ]
  },
  {
   "cell_type": "code",
   "execution_count": 45,
   "metadata": {},
   "outputs": [
    {
     "name": "stdout",
     "output_type": "stream",
     "text": [
      "R2:\t0.896\n"
     ]
    },
    {
     "data": {
      "image/png": "[encoded data removed]",
      "text/plain": [
       "<Figure size 720x720 with 1 Axes>"
      ]
     },
     "metadata": {
      "needs_background": "light"
     },
     "output_type": "display_data"
    }
   ],
   "source": [
    "y_train_preds = gb_model.predict(X_train)\n",
    "evaluate_preds(y_train, y_train_preds)"
   ]
  },
  {
   "cell_type": "markdown",
   "metadata": {},
   "source": [
    "## Проверка на валидационной выборке"
   ]
  },
  {
   "cell_type": "code",
   "execution_count": 46,
   "metadata": {},
   "outputs": [
    {
     "name": "stdout",
     "output_type": "stream",
     "text": [
      "R2:\t0.729\n"
     ]
    },
    {
     "data": {
      "image/png": "[encoded data removed]",
      "text/plain": [
       "<Figure size 720x720 with 1 Axes>"
      ]
     },
     "metadata": {
      "needs_background": "light"
     },
     "output_type": "display_data"
    }
   ],
   "source": [
    "y_valid_preds = gb_model.predict(X_valid)\n",
    "evaluate_preds(y_valid, y_valid_preds)"
   ]
  },
  {
   "cell_type": "markdown",
   "metadata": {},
   "source": [
    "## Важность признаков"
   ]
  },
  {
   "cell_type": "code",
   "execution_count": 49,
   "metadata": {},
   "outputs": [
    {
     "data": {
      "text/html": [
       "<div>\n",
       "<style scoped>\n",
       "    .dataframe tbody tr th:only-of-type {\n",
       "        vertical-align: middle;\n",
       "    }\n",
       "\n",
       "    .dataframe tbody tr th {\n",
       "        vertical-align: top;\n",
       "    }\n",
       "\n",
       "    .dataframe thead th {\n",
       "        text-align: right;\n",
       "    }\n",
       "</style>\n",
       "<table border=\"1\" class=\"dataframe\">\n",
       "  <thead>\n",
       "    <tr style=\"text-align: right;\">\n",
       "      <th></th>\n",
       "      <th>feature_name</th>\n",
       "      <th>importance</th>\n",
       "    </tr>\n",
       "  </thead>\n",
       "  <tbody>\n",
       "    <tr>\n",
       "      <th>1</th>\n",
       "      <td>Square</td>\n",
       "      <td>0.409486</td>\n",
       "    </tr>\n",
       "    <tr>\n",
       "      <th>8</th>\n",
       "      <td>Social_1</td>\n",
       "      <td>0.191628</td>\n",
       "    </tr>\n",
       "    <tr>\n",
       "      <th>9</th>\n",
       "      <td>Social_3</td>\n",
       "      <td>0.088729</td>\n",
       "    </tr>\n",
       "    <tr>\n",
       "      <th>7</th>\n",
       "      <td>Ecology_1</td>\n",
       "      <td>0.070188</td>\n",
       "    </tr>\n",
       "    <tr>\n",
       "      <th>0</th>\n",
       "      <td>Rooms</td>\n",
       "      <td>0.062090</td>\n",
       "    </tr>\n",
       "    <tr>\n",
       "      <th>6</th>\n",
       "      <td>HouseYear</td>\n",
       "      <td>0.043599</td>\n",
       "    </tr>\n",
       "    <tr>\n",
       "      <th>3</th>\n",
       "      <td>KitchenSquare</td>\n",
       "      <td>0.030916</td>\n",
       "    </tr>\n",
       "    <tr>\n",
       "      <th>5</th>\n",
       "      <td>HouseFloor</td>\n",
       "      <td>0.030346</td>\n",
       "    </tr>\n",
       "    <tr>\n",
       "      <th>2</th>\n",
       "      <td>LifeSquare</td>\n",
       "      <td>0.025318</td>\n",
       "    </tr>\n",
       "    <tr>\n",
       "      <th>11</th>\n",
       "      <td>Shops_1</td>\n",
       "      <td>0.024580</td>\n",
       "    </tr>\n",
       "    <tr>\n",
       "      <th>4</th>\n",
       "      <td>Floor</td>\n",
       "      <td>0.012269</td>\n",
       "    </tr>\n",
       "    <tr>\n",
       "      <th>10</th>\n",
       "      <td>Helthcare_2</td>\n",
       "      <td>0.010852</td>\n",
       "    </tr>\n",
       "  </tbody>\n",
       "</table>\n",
       "</div>"
      ],
      "text/plain": [
       "     feature_name  importance\n",
       "1          Square    0.409486\n",
       "8        Social_1    0.191628\n",
       "9        Social_3    0.088729\n",
       "7       Ecology_1    0.070188\n",
       "0           Rooms    0.062090\n",
       "6       HouseYear    0.043599\n",
       "3   KitchenSquare    0.030916\n",
       "5      HouseFloor    0.030346\n",
       "2      LifeSquare    0.025318\n",
       "11        Shops_1    0.024580\n",
       "4           Floor    0.012269\n",
       "10    Helthcare_2    0.010852"
      ]
     },
     "execution_count": 49,
     "metadata": {},
     "output_type": "execute_result"
    }
   ],
   "source": [
    "feature_importances = pd.DataFrame(zip(X_train.columns, gb_model.feature_importances_), \n",
    "                                   columns=['feature_name', 'importance'])\n",
    "\n",
    "feature_importances.sort_values(by='importance', ascending=False)"
   ]
  },
  {
   "cell_type": "markdown",
   "metadata": {},
   "source": [
    "## Обзор тестового датасета"
   ]
  },
  {
   "cell_type": "code",
   "execution_count": 51,
   "metadata": {},
   "outputs": [
    {
     "data": {
      "text/html": [
       "<div>\n",
       "<style scoped>\n",
       "    .dataframe tbody tr th:only-of-type {\n",
       "        vertical-align: middle;\n",
       "    }\n",
       "\n",
       "    .dataframe tbody tr th {\n",
       "        vertical-align: top;\n",
       "    }\n",
       "\n",
       "    .dataframe thead th {\n",
       "        text-align: right;\n",
       "    }\n",
       "</style>\n",
       "<table border=\"1\" class=\"dataframe\">\n",
       "  <thead>\n",
       "    <tr style=\"text-align: right;\">\n",
       "      <th></th>\n",
       "      <th>Id</th>\n",
       "      <th>DistrictId</th>\n",
       "      <th>Rooms</th>\n",
       "      <th>Square</th>\n",
       "      <th>LifeSquare</th>\n",
       "      <th>KitchenSquare</th>\n",
       "      <th>Floor</th>\n",
       "      <th>HouseFloor</th>\n",
       "      <th>HouseYear</th>\n",
       "      <th>Ecology_1</th>\n",
       "      <th>Ecology_2</th>\n",
       "      <th>Ecology_3</th>\n",
       "      <th>Social_1</th>\n",
       "      <th>Social_2</th>\n",
       "      <th>Social_3</th>\n",
       "      <th>Healthcare_1</th>\n",
       "      <th>Helthcare_2</th>\n",
       "      <th>Shops_1</th>\n",
       "      <th>Shops_2</th>\n",
       "    </tr>\n",
       "  </thead>\n",
       "  <tbody>\n",
       "    <tr>\n",
       "      <th>0</th>\n",
       "      <td>4567</td>\n",
       "      <td>44</td>\n",
       "      <td>1.0</td>\n",
       "      <td>36.847630</td>\n",
       "      <td>19.094182</td>\n",
       "      <td>5.0</td>\n",
       "      <td>5</td>\n",
       "      <td>9.0</td>\n",
       "      <td>1970</td>\n",
       "      <td>0.036122</td>\n",
       "      <td>B</td>\n",
       "      <td>B</td>\n",
       "      <td>24</td>\n",
       "      <td>4378</td>\n",
       "      <td>0</td>\n",
       "      <td>1036.0</td>\n",
       "      <td>1</td>\n",
       "      <td>1</td>\n",
       "      <td>B</td>\n",
       "    </tr>\n",
       "    <tr>\n",
       "      <th>1</th>\n",
       "      <td>5925</td>\n",
       "      <td>62</td>\n",
       "      <td>1.0</td>\n",
       "      <td>42.493907</td>\n",
       "      <td>42.568133</td>\n",
       "      <td>10.0</td>\n",
       "      <td>7</td>\n",
       "      <td>17.0</td>\n",
       "      <td>2017</td>\n",
       "      <td>0.072158</td>\n",
       "      <td>B</td>\n",
       "      <td>B</td>\n",
       "      <td>2</td>\n",
       "      <td>629</td>\n",
       "      <td>1</td>\n",
       "      <td>NaN</td>\n",
       "      <td>0</td>\n",
       "      <td>0</td>\n",
       "      <td>A</td>\n",
       "    </tr>\n",
       "    <tr>\n",
       "      <th>2</th>\n",
       "      <td>960</td>\n",
       "      <td>27</td>\n",
       "      <td>2.0</td>\n",
       "      <td>59.463678</td>\n",
       "      <td>NaN</td>\n",
       "      <td>9.0</td>\n",
       "      <td>19</td>\n",
       "      <td>19.0</td>\n",
       "      <td>1977</td>\n",
       "      <td>0.211401</td>\n",
       "      <td>B</td>\n",
       "      <td>B</td>\n",
       "      <td>9</td>\n",
       "      <td>1892</td>\n",
       "      <td>0</td>\n",
       "      <td>NaN</td>\n",
       "      <td>0</td>\n",
       "      <td>1</td>\n",
       "      <td>B</td>\n",
       "    </tr>\n",
       "    <tr>\n",
       "      <th>3</th>\n",
       "      <td>3848</td>\n",
       "      <td>23</td>\n",
       "      <td>3.0</td>\n",
       "      <td>49.646030</td>\n",
       "      <td>33.893825</td>\n",
       "      <td>6.0</td>\n",
       "      <td>2</td>\n",
       "      <td>2.0</td>\n",
       "      <td>1965</td>\n",
       "      <td>0.014073</td>\n",
       "      <td>B</td>\n",
       "      <td>B</td>\n",
       "      <td>2</td>\n",
       "      <td>475</td>\n",
       "      <td>0</td>\n",
       "      <td>NaN</td>\n",
       "      <td>0</td>\n",
       "      <td>0</td>\n",
       "      <td>B</td>\n",
       "    </tr>\n",
       "  </tbody>\n",
       "</table>\n",
       "</div>"
      ],
      "text/plain": [
       "     Id  DistrictId  Rooms     Square  LifeSquare  KitchenSquare  Floor  \\\n",
       "0  4567          44    1.0  36.847630   19.094182            5.0      5   \n",
       "1  5925          62    1.0  42.493907   42.568133           10.0      7   \n",
       "2   960          27    2.0  59.463678         NaN            9.0     19   \n",
       "3  3848          23    3.0  49.646030   33.893825            6.0      2   \n",
       "\n",
       "   HouseFloor  HouseYear  Ecology_1 Ecology_2 Ecology_3  Social_1  Social_2  \\\n",
       "0         9.0       1970   0.036122         B         B        24      4378   \n",
       "1        17.0       2017   0.072158         B         B         2       629   \n",
       "2        19.0       1977   0.211401         B         B         9      1892   \n",
       "3         2.0       1965   0.014073         B         B         2       475   \n",
       "\n",
       "   Social_3  Healthcare_1  Helthcare_2  Shops_1 Shops_2  \n",
       "0         0        1036.0            1        1       B  \n",
       "1         1           NaN            0        0       A  \n",
       "2         0           NaN            0        1       B  \n",
       "3         0           NaN            0        0       B  "
      ]
     },
     "execution_count": 51,
     "metadata": {},
     "output_type": "execute_result"
    }
   ],
   "source": [
    "test_df = pd.read_csv('test.csv', sep=',')\n",
    "test_df.head(4)"
   ]
  },
  {
   "cell_type": "code",
   "execution_count": null,
   "metadata": {},
   "outputs": [],
   "source": []
  },
  {
   "cell_type": "code",
   "execution_count": 52,
   "metadata": {
    "scrolled": true
   },
   "outputs": [
    {
     "name": "stdout",
     "output_type": "stream",
     "text": [
      "(5000, 19)\n"
     ]
    }
   ],
   "source": [
    "print(test_df.shape)"
   ]
  },
  {
   "cell_type": "code",
   "execution_count": 50,
   "metadata": {
    "scrolled": true
   },
   "outputs": [
    {
     "name": "stdout",
     "output_type": "stream",
     "text": [
      "<class 'pandas.core.frame.DataFrame'>\n",
      "RangeIndex: 5000 entries, 0 to 4999\n",
      "Data columns (total 19 columns):\n",
      " #   Column         Non-Null Count  Dtype  \n",
      "---  ------         --------------  -----  \n",
      " 0   Id             5000 non-null   int64  \n",
      " 1   DistrictId     5000 non-null   int64  \n",
      " 2   Rooms          5000 non-null   float64\n",
      " 3   Square         5000 non-null   float64\n",
      " 4   LifeSquare     3959 non-null   float64\n",
      " 5   KitchenSquare  5000 non-null   float64\n",
      " 6   Floor          5000 non-null   int64  \n",
      " 7   HouseFloor     5000 non-null   float64\n",
      " 8   HouseYear      5000 non-null   int64  \n",
      " 9   Ecology_1      5000 non-null   float64\n",
      " 10  Ecology_2      5000 non-null   object \n",
      " 11  Ecology_3      5000 non-null   object \n",
      " 12  Social_1       5000 non-null   int64  \n",
      " 13  Social_2       5000 non-null   int64  \n",
      " 14  Social_3       5000 non-null   int64  \n",
      " 15  Healthcare_1   2623 non-null   float64\n",
      " 16  Helthcare_2    5000 non-null   int64  \n",
      " 17  Shops_1        5000 non-null   int64  \n",
      " 18  Shops_2        5000 non-null   object \n",
      "dtypes: float64(7), int64(9), object(3)\n",
      "memory usage: 742.3+ KB\n",
      "None\n"
     ]
    }
   ],
   "source": [
    "print(test_df.info())"
   ]
  },
  {
   "cell_type": "code",
   "execution_count": 51,
   "metadata": {},
   "outputs": [],
   "source": [
    "test_df = test_df.drop('Healthcare_1', axis=1)"
   ]
  },
  {
   "cell_type": "markdown",
   "metadata": {},
   "source": [
    "## Преобразуем категориальные признаки \"Ecology_2\", \"Ecology_3\", \"Shops_2\" в бинарные"
   ]
  },
  {
   "cell_type": "code",
   "execution_count": 53,
   "metadata": {},
   "outputs": [
    {
     "name": "stdout",
     "output_type": "stream",
     "text": [
      "B    4952\n",
      "A      48\n",
      "Name: Ecology_2, dtype: int64\n",
      "B    4851\n",
      "A     149\n",
      "Name: Ecology_3, dtype: int64\n",
      "B    4588\n",
      "A     412\n",
      "Name: Shops_2, dtype: int64\n"
     ]
    }
   ],
   "source": [
    "print(test_df['Ecology_2'].value_counts())\n",
    "print(test_df['Ecology_3'].value_counts())\n",
    "print(test_df['Shops_2'].value_counts())"
   ]
  },
  {
   "cell_type": "code",
   "execution_count": 54,
   "metadata": {},
   "outputs": [],
   "source": [
    "test_df['Ecology_2_bin'] = test_df['Ecology_2'].replace({'A':0, 'B':1})\n",
    "test_df['Ecology_3_bin'] = test_df['Ecology_3'].replace({'A':0, 'B':1})\n",
    "test_df['Shops_2_bin'] = test_df['Shops_2'].replace({'A':0, 'B':1})"
   ]
  },
  {
   "cell_type": "code",
   "execution_count": 55,
   "metadata": {},
   "outputs": [
    {
     "data": {
      "text/plain": [
       "B    9175\n",
       "A     825\n",
       "Name: Shops_2, dtype: int64"
      ]
     },
     "execution_count": 55,
     "metadata": {},
     "output_type": "execute_result"
    }
   ],
   "source": [
    "train_df['Shops_2'].value_counts()"
   ]
  },
  {
   "cell_type": "code",
   "execution_count": 56,
   "metadata": {},
   "outputs": [
    {
     "data": {
      "text/plain": [
       "B    9903\n",
       "A      97\n",
       "Name: Ecology_2, dtype: int64"
      ]
     },
     "execution_count": 56,
     "metadata": {},
     "output_type": "execute_result"
    }
   ],
   "source": [
    "    train_df['Ecology_2'].value_counts()"
   ]
  },
  {
   "cell_type": "code",
   "execution_count": 57,
   "metadata": {},
   "outputs": [
    {
     "data": {
      "text/plain": [
       "B    9725\n",
       "A     275\n",
       "Name: Ecology_3, dtype: int64"
      ]
     },
     "execution_count": 57,
     "metadata": {},
     "output_type": "execute_result"
    }
   ],
   "source": [
    "train_df['Ecology_3'].value_counts()"
   ]
  },
  {
   "cell_type": "code",
   "execution_count": null,
   "metadata": {},
   "outputs": [],
   "source": []
  },
  {
   "cell_type": "code",
   "execution_count": null,
   "metadata": {},
   "outputs": [],
   "source": []
  },
  {
   "cell_type": "markdown",
   "metadata": {},
   "source": [
    "## Работаем с выбросами признака \"Rooms\""
   ]
  },
  {
   "cell_type": "code",
   "execution_count": 58,
   "metadata": {},
   "outputs": [],
   "source": [
    "test_df.loc[test_df['Rooms'].isin([0, 17]), 'Rooms'] = rooms_med"
   ]
  },
  {
   "cell_type": "markdown",
   "metadata": {},
   "source": [
    "## Работаем с выбросами признаков \"LifeSquare\" и \"KitchenSquare\""
   ]
  },
  {
   "cell_type": "code",
   "execution_count": 59,
   "metadata": {},
   "outputs": [],
   "source": [
    "test_df.loc[test_df['LifeSquare'].isnull(), 'LifeSquare'] = lifesq_med\n",
    "test_df.loc[test_df['LifeSquare'] < 10, 'LifeSquare'] = lifesq_med\n",
    "test_df.loc[test_df['LifeSquare'] > 200, 'LifeSquare'] = lifesq_med\n",
    "test_df.loc[test_df['KitchenSquare'] < 5, 'KitchenSquare'] = kitchsq_med\n",
    "test_df.loc[test_df['KitchenSquare'] > 80, 'KitchenSquare'] = kitchsq_med"
   ]
  },
  {
   "cell_type": "markdown",
   "metadata": {},
   "source": [
    "## Работаем с выбросами признака \"Square\""
   ]
  },
  {
   "cell_type": "code",
   "execution_count": 59,
   "metadata": {},
   "outputs": [],
   "source": [
    "test_df.loc[test_df['Square'] < 16, 'Square'] = square_med\n",
    "test_df.loc[test_df['Square'] > 400, 'Square'] = square_med"
   ]
  },
  {
   "cell_type": "markdown",
   "metadata": {},
   "source": [
    "## Работаем с выбросами признаков \"Floor\" и \"HouseFloor\""
   ]
  },
  {
   "cell_type": "code",
   "execution_count": 60,
   "metadata": {},
   "outputs": [],
   "source": [
    "test_df.loc[test_df['HouseFloor'] == 0, 'HouseFloor'] = hfloor_med"
   ]
  },
  {
   "cell_type": "code",
   "execution_count": 60,
   "metadata": {},
   "outputs": [],
   "source": [
    "ind = test_df[test_df['Floor'] > test_df['HouseFloor']].index\n",
    "test_df.loc[ind, 'Floor'] = test_df.loc[ind, 'HouseFloor']"
   ]
  },
  {
   "cell_type": "markdown",
   "metadata": {},
   "source": [
    "## Добавляем новые признаки к датасету"
   ]
  },
  {
   "cell_type": "code",
   "execution_count": 61,
   "metadata": {},
   "outputs": [],
   "source": [
    "test_df = test_df.merge(m_2_MedPriceByDistrict, on=['DistrictId'], how='left')\n",
    "test_df = test_df.merge(m_2_MedPriceByHouseYear, on=['HouseYear'], how='left')"
   ]
  },
  {
   "cell_type": "markdown",
   "metadata": {},
   "source": [
    "## Заполняем возможные пропуски"
   ]
  },
  {
   "cell_type": "code",
   "execution_count": 62,
   "metadata": {},
   "outputs": [],
   "source": [
    "test_df.loc[test_df['m_2_MedPriceByDistrict'].isnull(), 'm_2_MedPriceByDistrict'] =\\\n",
    "                    m_2_MedPriceByDistrict['m_2_MedPriceByDistrict'].median()"
   ]
  },
  {
   "cell_type": "code",
   "execution_count": 63,
   "metadata": {},
   "outputs": [],
   "source": [
    "test_df.loc[(test_df['m_2_MedPriceByHouseYear'].isnull()) & (test_df['HouseYear'] < 1950), \n",
    "                     'm_2_MedPriceByHouseYear'] =\\\n",
    "                      m_2_MedPriceByHouseYear.loc[m_2_MedPriceByHouseYear['HouseYear'] < 1950,\n",
    "                                                  'm_2_MedPriceByHouseYear'].median()"
   ]
  },
  {
   "cell_type": "code",
   "execution_count": 64,
   "metadata": {},
   "outputs": [],
   "source": [
    "test_df.loc[(test_df['m_2_MedPriceByHouseYear'].isnull()) & (test_df['HouseYear'] >= 1990), \n",
    "                     'm_2_MedPriceByHouseYear'] =\\\n",
    "                      m_2_MedPriceByHouseYear.loc[m_2_MedPriceByHouseYear['HouseYear'] >= 1990,\n",
    "                                                  'm_2_MedPriceByHouseYear'].median()"
   ]
  },
  {
   "cell_type": "code",
   "execution_count": 65,
   "metadata": {},
   "outputs": [],
   "source": [
    "test_df.loc[(test_df['m_2_MedPriceByHouseYear'].isnull()) & (test_df['HouseYear'] >= 1950) &\\\n",
    "                    (test_df['HouseYear'] < 1990), 'm_2_MedPriceByHouseYear'] =\\\n",
    "                      m_2_MedPriceByHouseYear.loc[(m_2_MedPriceByHouseYear['HouseYear'] >= 1950) & \\\n",
    "                                                  (m_2_MedPriceByHouseYear['HouseYear'] < 1990),\n",
    "                                                  'm_2_MedPriceByHouseYear'].median()"
   ]
  },
  {
   "cell_type": "code",
   "execution_count": 66,
   "metadata": {
    "scrolled": true
   },
   "outputs": [
    {
     "data": {
      "text/html": [
       "<div>\n",
       "<style scoped>\n",
       "    .dataframe tbody tr th:only-of-type {\n",
       "        vertical-align: middle;\n",
       "    }\n",
       "\n",
       "    .dataframe tbody tr th {\n",
       "        vertical-align: top;\n",
       "    }\n",
       "\n",
       "    .dataframe thead th {\n",
       "        text-align: right;\n",
       "    }\n",
       "</style>\n",
       "<table border=\"1\" class=\"dataframe\">\n",
       "  <thead>\n",
       "    <tr style=\"text-align: right;\">\n",
       "      <th></th>\n",
       "      <th>Id</th>\n",
       "      <th>DistrictId</th>\n",
       "      <th>Rooms</th>\n",
       "      <th>Square</th>\n",
       "      <th>LifeSquare</th>\n",
       "      <th>KitchenSquare</th>\n",
       "      <th>Floor</th>\n",
       "      <th>HouseFloor</th>\n",
       "      <th>HouseYear</th>\n",
       "      <th>Ecology_1</th>\n",
       "      <th>...</th>\n",
       "      <th>Social_2</th>\n",
       "      <th>Social_3</th>\n",
       "      <th>Healthcare_1</th>\n",
       "      <th>Helthcare_2</th>\n",
       "      <th>Shops_1</th>\n",
       "      <th>Ecology_2_bin</th>\n",
       "      <th>Ecology_3_bin</th>\n",
       "      <th>Shops_2_bin</th>\n",
       "      <th>m_2_MedPriceByDistrict</th>\n",
       "      <th>m_2_MedPriceByHouseYear</th>\n",
       "    </tr>\n",
       "  </thead>\n",
       "  <tbody>\n",
       "    <tr>\n",
       "      <th>count</th>\n",
       "      <td>5000.000000</td>\n",
       "      <td>5000.000000</td>\n",
       "      <td>5000.00000</td>\n",
       "      <td>5000.000000</td>\n",
       "      <td>5000.000000</td>\n",
       "      <td>5000.000000</td>\n",
       "      <td>5000.000000</td>\n",
       "      <td>5000.000000</td>\n",
       "      <td>5000.000000</td>\n",
       "      <td>5000.000000</td>\n",
       "      <td>...</td>\n",
       "      <td>5000.000000</td>\n",
       "      <td>5000.000000</td>\n",
       "      <td>2623.000000</td>\n",
       "      <td>5000.00000</td>\n",
       "      <td>5000.000000</td>\n",
       "      <td>5000.000000</td>\n",
       "      <td>5000.000000</td>\n",
       "      <td>5000.000000</td>\n",
       "      <td>5000.000000</td>\n",
       "      <td>5000.000000</td>\n",
       "    </tr>\n",
       "    <tr>\n",
       "      <th>mean</th>\n",
       "      <td>8412.595400</td>\n",
       "      <td>51.279200</td>\n",
       "      <td>1.90780</td>\n",
       "      <td>56.449500</td>\n",
       "      <td>36.047463</td>\n",
       "      <td>7.425800</td>\n",
       "      <td>7.838000</td>\n",
       "      <td>12.601000</td>\n",
       "      <td>1984.392600</td>\n",
       "      <td>0.119874</td>\n",
       "      <td>...</td>\n",
       "      <td>5406.900000</td>\n",
       "      <td>8.262600</td>\n",
       "      <td>1146.657263</td>\n",
       "      <td>1.31940</td>\n",
       "      <td>4.242800</td>\n",
       "      <td>0.990400</td>\n",
       "      <td>0.970200</td>\n",
       "      <td>0.917600</td>\n",
       "      <td>3946.750805</td>\n",
       "      <td>3790.421605</td>\n",
       "    </tr>\n",
       "    <tr>\n",
       "      <th>std</th>\n",
       "      <td>4832.674037</td>\n",
       "      <td>44.179466</td>\n",
       "      <td>0.81008</td>\n",
       "      <td>19.092787</td>\n",
       "      <td>14.706864</td>\n",
       "      <td>3.038674</td>\n",
       "      <td>5.454989</td>\n",
       "      <td>6.789213</td>\n",
       "      <td>18.573149</td>\n",
       "      <td>0.120070</td>\n",
       "      <td>...</td>\n",
       "      <td>4026.614773</td>\n",
       "      <td>23.863762</td>\n",
       "      <td>1044.744231</td>\n",
       "      <td>1.47994</td>\n",
       "      <td>4.777365</td>\n",
       "      <td>0.097518</td>\n",
       "      <td>0.170052</td>\n",
       "      <td>0.275001</td>\n",
       "      <td>985.494228</td>\n",
       "      <td>761.818482</td>\n",
       "    </tr>\n",
       "    <tr>\n",
       "      <th>min</th>\n",
       "      <td>1.000000</td>\n",
       "      <td>0.000000</td>\n",
       "      <td>1.00000</td>\n",
       "      <td>1.378543</td>\n",
       "      <td>10.692499</td>\n",
       "      <td>5.000000</td>\n",
       "      <td>0.000000</td>\n",
       "      <td>0.000000</td>\n",
       "      <td>1908.000000</td>\n",
       "      <td>0.000000</td>\n",
       "      <td>...</td>\n",
       "      <td>168.000000</td>\n",
       "      <td>0.000000</td>\n",
       "      <td>0.000000</td>\n",
       "      <td>0.00000</td>\n",
       "      <td>0.000000</td>\n",
       "      <td>0.000000</td>\n",
       "      <td>0.000000</td>\n",
       "      <td>0.000000</td>\n",
       "      <td>2273.498737</td>\n",
       "      <td>2793.739365</td>\n",
       "    </tr>\n",
       "    <tr>\n",
       "      <th>25%</th>\n",
       "      <td>4221.750000</td>\n",
       "      <td>21.000000</td>\n",
       "      <td>1.00000</td>\n",
       "      <td>41.906231</td>\n",
       "      <td>27.990919</td>\n",
       "      <td>6.000000</td>\n",
       "      <td>4.000000</td>\n",
       "      <td>9.000000</td>\n",
       "      <td>1973.000000</td>\n",
       "      <td>0.019509</td>\n",
       "      <td>...</td>\n",
       "      <td>1564.000000</td>\n",
       "      <td>0.000000</td>\n",
       "      <td>325.000000</td>\n",
       "      <td>0.00000</td>\n",
       "      <td>1.000000</td>\n",
       "      <td>1.000000</td>\n",
       "      <td>1.000000</td>\n",
       "      <td>1.000000</td>\n",
       "      <td>2949.975415</td>\n",
       "      <td>2901.326376</td>\n",
       "    </tr>\n",
       "    <tr>\n",
       "      <th>50%</th>\n",
       "      <td>8320.500000</td>\n",
       "      <td>37.000000</td>\n",
       "      <td>2.00000</td>\n",
       "      <td>52.921340</td>\n",
       "      <td>32.781260</td>\n",
       "      <td>6.000000</td>\n",
       "      <td>7.000000</td>\n",
       "      <td>12.000000</td>\n",
       "      <td>1977.000000</td>\n",
       "      <td>0.072158</td>\n",
       "      <td>...</td>\n",
       "      <td>5285.000000</td>\n",
       "      <td>2.000000</td>\n",
       "      <td>900.000000</td>\n",
       "      <td>1.00000</td>\n",
       "      <td>3.000000</td>\n",
       "      <td>1.000000</td>\n",
       "      <td>1.000000</td>\n",
       "      <td>1.000000</td>\n",
       "      <td>4158.187979</td>\n",
       "      <td>4285.794408</td>\n",
       "    </tr>\n",
       "    <tr>\n",
       "      <th>75%</th>\n",
       "      <td>12598.250000</td>\n",
       "      <td>77.000000</td>\n",
       "      <td>2.00000</td>\n",
       "      <td>66.285129</td>\n",
       "      <td>41.760597</td>\n",
       "      <td>9.000000</td>\n",
       "      <td>11.000000</td>\n",
       "      <td>17.000000</td>\n",
       "      <td>2000.000000</td>\n",
       "      <td>0.195781</td>\n",
       "      <td>...</td>\n",
       "      <td>7287.000000</td>\n",
       "      <td>5.000000</td>\n",
       "      <td>1548.000000</td>\n",
       "      <td>2.00000</td>\n",
       "      <td>6.000000</td>\n",
       "      <td>1.000000</td>\n",
       "      <td>1.000000</td>\n",
       "      <td>1.000000</td>\n",
       "      <td>4571.660177</td>\n",
       "      <td>4409.376396</td>\n",
       "    </tr>\n",
       "    <tr>\n",
       "      <th>max</th>\n",
       "      <td>16795.000000</td>\n",
       "      <td>212.000000</td>\n",
       "      <td>6.00000</td>\n",
       "      <td>223.453689</td>\n",
       "      <td>169.901701</td>\n",
       "      <td>65.000000</td>\n",
       "      <td>46.000000</td>\n",
       "      <td>99.000000</td>\n",
       "      <td>2020.000000</td>\n",
       "      <td>0.521867</td>\n",
       "      <td>...</td>\n",
       "      <td>19083.000000</td>\n",
       "      <td>141.000000</td>\n",
       "      <td>4849.000000</td>\n",
       "      <td>6.00000</td>\n",
       "      <td>23.000000</td>\n",
       "      <td>1.000000</td>\n",
       "      <td>1.000000</td>\n",
       "      <td>1.000000</td>\n",
       "      <td>8700.768533</td>\n",
       "      <td>7823.822055</td>\n",
       "    </tr>\n",
       "  </tbody>\n",
       "</table>\n",
       "<p>8 rows × 21 columns</p>\n",
       "</div>"
      ],
      "text/plain": [
       "                 Id   DistrictId       Rooms       Square   LifeSquare  \\\n",
       "count   5000.000000  5000.000000  5000.00000  5000.000000  5000.000000   \n",
       "mean    8412.595400    51.279200     1.90780    56.449500    36.047463   \n",
       "std     4832.674037    44.179466     0.81008    19.092787    14.706864   \n",
       "min        1.000000     0.000000     1.00000     1.378543    10.692499   \n",
       "25%     4221.750000    21.000000     1.00000    41.906231    27.990919   \n",
       "50%     8320.500000    37.000000     2.00000    52.921340    32.781260   \n",
       "75%    12598.250000    77.000000     2.00000    66.285129    41.760597   \n",
       "max    16795.000000   212.000000     6.00000   223.453689   169.901701   \n",
       "\n",
       "       KitchenSquare        Floor   HouseFloor    HouseYear    Ecology_1  ...  \\\n",
       "count    5000.000000  5000.000000  5000.000000  5000.000000  5000.000000  ...   \n",
       "mean        7.425800     7.838000    12.601000  1984.392600     0.119874  ...   \n",
       "std         3.038674     5.454989     6.789213    18.573149     0.120070  ...   \n",
       "min         5.000000     0.000000     0.000000  1908.000000     0.000000  ...   \n",
       "25%         6.000000     4.000000     9.000000  1973.000000     0.019509  ...   \n",
       "50%         6.000000     7.000000    12.000000  1977.000000     0.072158  ...   \n",
       "75%         9.000000    11.000000    17.000000  2000.000000     0.195781  ...   \n",
       "max        65.000000    46.000000    99.000000  2020.000000     0.521867  ...   \n",
       "\n",
       "           Social_2     Social_3  Healthcare_1  Helthcare_2      Shops_1  \\\n",
       "count   5000.000000  5000.000000   2623.000000   5000.00000  5000.000000   \n",
       "mean    5406.900000     8.262600   1146.657263      1.31940     4.242800   \n",
       "std     4026.614773    23.863762   1044.744231      1.47994     4.777365   \n",
       "min      168.000000     0.000000      0.000000      0.00000     0.000000   \n",
       "25%     1564.000000     0.000000    325.000000      0.00000     1.000000   \n",
       "50%     5285.000000     2.000000    900.000000      1.00000     3.000000   \n",
       "75%     7287.000000     5.000000   1548.000000      2.00000     6.000000   \n",
       "max    19083.000000   141.000000   4849.000000      6.00000    23.000000   \n",
       "\n",
       "       Ecology_2_bin  Ecology_3_bin  Shops_2_bin  m_2_MedPriceByDistrict  \\\n",
       "count    5000.000000    5000.000000  5000.000000             5000.000000   \n",
       "mean        0.990400       0.970200     0.917600             3946.750805   \n",
       "std         0.097518       0.170052     0.275001              985.494228   \n",
       "min         0.000000       0.000000     0.000000             2273.498737   \n",
       "25%         1.000000       1.000000     1.000000             2949.975415   \n",
       "50%         1.000000       1.000000     1.000000             4158.187979   \n",
       "75%         1.000000       1.000000     1.000000             4571.660177   \n",
       "max         1.000000       1.000000     1.000000             8700.768533   \n",
       "\n",
       "       m_2_MedPriceByHouseYear  \n",
       "count              5000.000000  \n",
       "mean               3790.421605  \n",
       "std                 761.818482  \n",
       "min                2793.739365  \n",
       "25%                2901.326376  \n",
       "50%                4285.794408  \n",
       "75%                4409.376396  \n",
       "max                7823.822055  \n",
       "\n",
       "[8 rows x 21 columns]"
      ]
     },
     "execution_count": 66,
     "metadata": {},
     "output_type": "execute_result"
    }
   ],
   "source": [
    "test_df.describe()"
   ]
  },
  {
   "cell_type": "code",
   "execution_count": null,
   "metadata": {
    "scrolled": true
   },
   "outputs": [],
   "source": []
  },
  {
   "cell_type": "markdown",
   "metadata": {},
   "source": [
    "## Масштабируем признаки"
   ]
  },
  {
   "cell_type": "code",
   "execution_count": 68,
   "metadata": {},
   "outputs": [],
   "source": [
    "stand_features = scaler.fit_transform(test_df[feature_names])"
   ]
  },
  {
   "cell_type": "code",
   "execution_count": 69,
   "metadata": {},
   "outputs": [],
   "source": [
    "test_df[feature_names] = pd.DataFrame(stand_features, columns=feature_names)"
   ]
  },
  {
   "cell_type": "code",
   "execution_count": 70,
   "metadata": {},
   "outputs": [],
   "source": [
    "df[df.select_dtypes(np.float64).columns] = df.select_dtypes(np.float64).astype(np.float32)"
   ]
  },
  {
   "cell_type": "markdown",
   "metadata": {},
   "source": [
    "## Предсказываем цены для тестового датасета"
   ]
  },
  {
   "cell_type": "code",
   "execution_count": 72,
   "metadata": {},
   "outputs": [],
   "source": [
    "X_test = test_df[feature_names]"
   ]
  },
  {
   "cell_type": "code",
   "execution_count": 74,
   "metadata": {},
   "outputs": [],
   "source": [
    "y_test_preds = gb_model.predict(X_test)"
   ]
  },
  {
   "cell_type": "code",
   "execution_count": 75,
   "metadata": {},
   "outputs": [],
   "source": [
    "test_df['Price'] = y_test_preds"
   ]
  },
  {
   "cell_type": "code",
   "execution_count": 79,
   "metadata": {},
   "outputs": [],
   "source": [
    "test_df.to_csv(PREDICTIONS_PATH, columns=['Id', 'Price'], index=False, encoding='utf-8')"
   ]
  },
  {
   "cell_type": "code",
   "execution_count": null,
   "metadata": {},
   "outputs": [],
   "source": []
  }
 ],
 "metadata": {
  "kernelspec": {
   "display_name": "Python 3",
   "language": "python",
   "name": "python3"
  },
  "language_info": {
   "codemirror_mode": {
    "name": "ipython",
    "version": 3
   },
   "file_extension": ".py",
   "mimetype": "text/x-python",
   "name": "python",
   "nbconvert_exporter": "python",
   "pygments_lexer": "ipython3",
   "version": "3.8.8"
  }
 },
 "nbformat": 4,
 "nbformat_minor": 4
}
